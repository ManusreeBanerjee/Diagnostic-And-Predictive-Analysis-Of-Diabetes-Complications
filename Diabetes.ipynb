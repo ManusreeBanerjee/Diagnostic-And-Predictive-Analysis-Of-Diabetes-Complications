{
  "nbformat": 4,
  "nbformat_minor": 0,
  "metadata": {
    "colab": {
      "name": "Diabetes (1).ipynb",
      "provenance": [],
      "collapsed_sections": []
    },
    "kernelspec": {
      "display_name": "Python 3",
      "name": "python3"
    },
    "language_info": {
      "name": "python"
    }
  },
  "cells": [
    {
      "cell_type": "markdown",
      "metadata": {
        "id": "0bAf-7KNJ5xx"
      },
      "source": [
        "# **Diagnostic and Predictive Analysis of Diabetes Complications**"
      ]
    },
    {
      "cell_type": "markdown",
      "metadata": {
        "id": "9an8vx9tlSvz"
      },
      "source": [
        "## Perform Exploratory Data Analysis on the data set\n",
        "###  **I** - **Data Assessment**\n",
        "In this stage we display the data we're going to import to assess its Quality and Tidiness.\n",
        "\n",
        "**Quality dimensions or aspects are mainly:**\n",
        "\n",
        "**1.** **Completeness** - Checking if there are any missing records\n",
        "\n",
        "**2.** **Validity**  Checking if the values displayed are 'valid' i.e data that follow certain known rules\n",
        "\n",
        "**3.** **Accuracy** - A significant decrease or increase in a value is considered an 'inaccurate data'\n",
        "\n",
        "**4.** **Consistency** - There should be only one way to represent or refer to a value otherwise the data is called to be 'inconsistent'"
      ]
    },
    {
      "cell_type": "code",
      "metadata": {
        "id": "HoEK_KsFlPsX",
        "colab": {
          "base_uri": "https://localhost:8080/"
        },
        "outputId": "16e876f5-456f-4cd9-c44e-e96b9f586f4e"
      },
      "source": [
        "import pandas as pd\n",
        "import matplotlib.pyplot as plt\n",
        "import seaborn as sns\n",
        "import math\n",
        "import numpy as np\n",
        "diabetes_data = pd.read_csv('DM_registry_Khorramabad.csv',encoding='latin-1')\n",
        "diabetes_data.shape\n",
        "diabetes_data.info()"
      ],
      "execution_count": null,
      "outputs": [
        {
          "output_type": "stream",
          "text": [
            "<class 'pandas.core.frame.DataFrame'>\n",
            "RangeIndex: 211 entries, 0 to 210\n",
            "Data columns (total 28 columns):\n",
            " #   Column                Non-Null Count  Dtype  \n",
            "---  ------                --------------  -----  \n",
            " 0   Name                  133 non-null    float64\n",
            " 1   Sex                   133 non-null    object \n",
            " 2   DM type               133 non-null    object \n",
            " 3   DM treat              133 non-null    object \n",
            " 4   Statin                133 non-null    object \n",
            " 5   Dose ( Í2 if BID)     133 non-null    object \n",
            " 6   Age                   133 non-null    float64\n",
            " 7   BMI                   133 non-null    float64\n",
            " 8   DM duration           133 non-null    float64\n",
            " 9   FBS                   133 non-null    float64\n",
            " 10  A1C                   133 non-null    float64\n",
            " 11  LDL                   133 non-null    float64\n",
            " 12  HDL                   133 non-null    float64\n",
            " 13  TG                    133 non-null    float64\n",
            " 14  Sys BP                133 non-null    float64\n",
            " 15  Dias BP               133 non-null    float64\n",
            " 16  Neu-pathy             133 non-null    object \n",
            " 17  Neph-pathy            133 non-null    object \n",
            " 18  Ret-pathy             133 non-null    object \n",
            " 19  PVD                   133 non-null    object \n",
            " 20  CDV                   133 non-null    object \n",
            " 21  Ft ulcer              133 non-null    object \n",
            " 22  Dawn ef               133 non-null    object \n",
            " 23  Unnamed: 23           0 non-null      float64\n",
            " 24  Cum Atorvastatin Equ  211 non-null    object \n",
            " 25  Unnamed: 25           0 non-null      float64\n",
            " 26  Real LDL              211 non-null    float64\n",
            " 27  Male                  18 non-null     object \n",
            "dtypes: float64(14), object(14)\n",
            "memory usage: 46.3+ KB\n"
          ],
          "name": "stdout"
        }
      ]
    },
    {
      "cell_type": "markdown",
      "metadata": {
        "id": "PvzWdAaSonma"
      },
      "source": [
        "Display first 5 observations."
      ]
    },
    {
      "cell_type": "code",
      "metadata": {
        "id": "MoZnGJAoow7v",
        "colab": {
          "base_uri": "https://localhost:8080/",
          "height": 290
        },
        "outputId": "3708d4e6-d999-415f-eae9-257df4377302"
      },
      "source": [
        "diabetes_data.head(5)"
      ],
      "execution_count": null,
      "outputs": [
        {
          "output_type": "execute_result",
          "data": {
            "text/html": [
              "<div>\n",
              "<style scoped>\n",
              "    .dataframe tbody tr th:only-of-type {\n",
              "        vertical-align: middle;\n",
              "    }\n",
              "\n",
              "    .dataframe tbody tr th {\n",
              "        vertical-align: top;\n",
              "    }\n",
              "\n",
              "    .dataframe thead th {\n",
              "        text-align: right;\n",
              "    }\n",
              "</style>\n",
              "<table border=\"1\" class=\"dataframe\">\n",
              "  <thead>\n",
              "    <tr style=\"text-align: right;\">\n",
              "      <th></th>\n",
              "      <th>Name</th>\n",
              "      <th>Sex</th>\n",
              "      <th>DM type</th>\n",
              "      <th>DM treat</th>\n",
              "      <th>Statin</th>\n",
              "      <th>Dose ( Í2 if BID)</th>\n",
              "      <th>Age</th>\n",
              "      <th>BMI</th>\n",
              "      <th>DM duration</th>\n",
              "      <th>FBS</th>\n",
              "      <th>A1C</th>\n",
              "      <th>LDL</th>\n",
              "      <th>HDL</th>\n",
              "      <th>TG</th>\n",
              "      <th>Sys BP</th>\n",
              "      <th>Dias BP</th>\n",
              "      <th>Neu-pathy</th>\n",
              "      <th>Neph-pathy</th>\n",
              "      <th>Ret-pathy</th>\n",
              "      <th>PVD</th>\n",
              "      <th>CDV</th>\n",
              "      <th>Ft ulcer</th>\n",
              "      <th>Dawn ef</th>\n",
              "      <th>Unnamed: 23</th>\n",
              "      <th>Cum Atorvastatin Equ</th>\n",
              "      <th>Unnamed: 25</th>\n",
              "      <th>Real LDL</th>\n",
              "      <th>Male</th>\n",
              "    </tr>\n",
              "  </thead>\n",
              "  <tbody>\n",
              "    <tr>\n",
              "      <th>0</th>\n",
              "      <td>1.0</td>\n",
              "      <td>Male</td>\n",
              "      <td>II</td>\n",
              "      <td>Oral</td>\n",
              "      <td>Ator</td>\n",
              "      <td>40</td>\n",
              "      <td>65.0</td>\n",
              "      <td>25.0</td>\n",
              "      <td>20.0</td>\n",
              "      <td>129.0</td>\n",
              "      <td>7.1</td>\n",
              "      <td>100.0</td>\n",
              "      <td>40.0</td>\n",
              "      <td>200.0</td>\n",
              "      <td>130.0</td>\n",
              "      <td>80.0</td>\n",
              "      <td>Yes</td>\n",
              "      <td>Yes</td>\n",
              "      <td>Yes</td>\n",
              "      <td>Yes</td>\n",
              "      <td>Yes</td>\n",
              "      <td>No</td>\n",
              "      <td>Yes</td>\n",
              "      <td>NaN</td>\n",
              "      <td>40</td>\n",
              "      <td>NaN</td>\n",
              "      <td>148.00</td>\n",
              "      <td>NaN</td>\n",
              "    </tr>\n",
              "    <tr>\n",
              "      <th>1</th>\n",
              "      <td>2.0</td>\n",
              "      <td>Male</td>\n",
              "      <td>II</td>\n",
              "      <td>Oral</td>\n",
              "      <td>Ator</td>\n",
              "      <td>20</td>\n",
              "      <td>42.0</td>\n",
              "      <td>27.0</td>\n",
              "      <td>3.0</td>\n",
              "      <td>210.0</td>\n",
              "      <td>8.9</td>\n",
              "      <td>125.0</td>\n",
              "      <td>38.0</td>\n",
              "      <td>151.0</td>\n",
              "      <td>140.0</td>\n",
              "      <td>90.0</td>\n",
              "      <td>No</td>\n",
              "      <td>No</td>\n",
              "      <td>No</td>\n",
              "      <td>No</td>\n",
              "      <td>No</td>\n",
              "      <td>No</td>\n",
              "      <td>No</td>\n",
              "      <td>NaN</td>\n",
              "      <td>20</td>\n",
              "      <td>NaN</td>\n",
              "      <td>171.25</td>\n",
              "      <td>I</td>\n",
              "    </tr>\n",
              "    <tr>\n",
              "      <th>2</th>\n",
              "      <td>3.0</td>\n",
              "      <td>Female</td>\n",
              "      <td>I</td>\n",
              "      <td>Ins</td>\n",
              "      <td>No statin</td>\n",
              "      <td>No</td>\n",
              "      <td>31.0</td>\n",
              "      <td>21.0</td>\n",
              "      <td>11.0</td>\n",
              "      <td>164.0</td>\n",
              "      <td>7.7</td>\n",
              "      <td>147.0</td>\n",
              "      <td>35.0</td>\n",
              "      <td>217.0</td>\n",
              "      <td>145.0</td>\n",
              "      <td>80.0</td>\n",
              "      <td>No</td>\n",
              "      <td>No</td>\n",
              "      <td>Yes</td>\n",
              "      <td>No</td>\n",
              "      <td>No</td>\n",
              "      <td>No</td>\n",
              "      <td>Yes</td>\n",
              "      <td>NaN</td>\n",
              "      <td>FALSE</td>\n",
              "      <td>NaN</td>\n",
              "      <td>147.00</td>\n",
              "      <td>II</td>\n",
              "    </tr>\n",
              "    <tr>\n",
              "      <th>3</th>\n",
              "      <td>4.0</td>\n",
              "      <td>Male</td>\n",
              "      <td>II</td>\n",
              "      <td>Ins</td>\n",
              "      <td>Ator</td>\n",
              "      <td>80</td>\n",
              "      <td>70.0</td>\n",
              "      <td>32.0</td>\n",
              "      <td>29.0</td>\n",
              "      <td>208.0</td>\n",
              "      <td>9.3</td>\n",
              "      <td>119.0</td>\n",
              "      <td>36.0</td>\n",
              "      <td>168.0</td>\n",
              "      <td>160.0</td>\n",
              "      <td>100.0</td>\n",
              "      <td>Yes</td>\n",
              "      <td>Yes</td>\n",
              "      <td>Yes</td>\n",
              "      <td>Yes</td>\n",
              "      <td>Yes</td>\n",
              "      <td>Yes</td>\n",
              "      <td>Yes</td>\n",
              "      <td>NaN</td>\n",
              "      <td>80</td>\n",
              "      <td>NaN</td>\n",
              "      <td>184.45</td>\n",
              "      <td>NaN</td>\n",
              "    </tr>\n",
              "    <tr>\n",
              "      <th>4</th>\n",
              "      <td>5.0</td>\n",
              "      <td>Female</td>\n",
              "      <td>II</td>\n",
              "      <td>Oral</td>\n",
              "      <td>Ator</td>\n",
              "      <td>40</td>\n",
              "      <td>54.0</td>\n",
              "      <td>34.0</td>\n",
              "      <td>6.0</td>\n",
              "      <td>183.0</td>\n",
              "      <td>9.8</td>\n",
              "      <td>196.0</td>\n",
              "      <td>32.0</td>\n",
              "      <td>197.0</td>\n",
              "      <td>155.0</td>\n",
              "      <td>95.0</td>\n",
              "      <td>Yes</td>\n",
              "      <td>Yes</td>\n",
              "      <td>No</td>\n",
              "      <td>No</td>\n",
              "      <td>No</td>\n",
              "      <td>No</td>\n",
              "      <td>No</td>\n",
              "      <td>NaN</td>\n",
              "      <td>40</td>\n",
              "      <td>NaN</td>\n",
              "      <td>290.08</td>\n",
              "      <td>Simv</td>\n",
              "    </tr>\n",
              "  </tbody>\n",
              "</table>\n",
              "</div>"
            ],
            "text/plain": [
              "   Name     Sex DM type  ... Unnamed: 25 Real LDL  Male\n",
              "0   1.0    Male      II  ...         NaN   148.00   NaN\n",
              "1   2.0    Male      II  ...         NaN   171.25     I\n",
              "2   3.0  Female       I  ...         NaN   147.00    II\n",
              "3   4.0    Male      II  ...         NaN   184.45   NaN\n",
              "4   5.0  Female      II  ...         NaN   290.08  Simv\n",
              "\n",
              "[5 rows x 28 columns]"
            ]
          },
          "metadata": {
            "tags": []
          },
          "execution_count": 2
        }
      ]
    },
    {
      "cell_type": "markdown",
      "metadata": {
        "id": "0v5ZWVclrEq1"
      },
      "source": [
        "***Note that :*** Columns Unnamed 23 and Unnamed 25 are blank and must be dropped."
      ]
    },
    {
      "cell_type": "markdown",
      "metadata": {
        "id": "wLAGtt53o0RE"
      },
      "source": [
        "Display last 5 observations."
      ]
    },
    {
      "cell_type": "code",
      "metadata": {
        "id": "RARZ8_jZo4Be",
        "colab": {
          "base_uri": "https://localhost:8080/",
          "height": 274
        },
        "outputId": "2c647c74-a73f-4c83-e970-3c3f24eda887"
      },
      "source": [
        "diabetes_data.tail(5)"
      ],
      "execution_count": null,
      "outputs": [
        {
          "output_type": "execute_result",
          "data": {
            "text/html": [
              "<div>\n",
              "<style scoped>\n",
              "    .dataframe tbody tr th:only-of-type {\n",
              "        vertical-align: middle;\n",
              "    }\n",
              "\n",
              "    .dataframe tbody tr th {\n",
              "        vertical-align: top;\n",
              "    }\n",
              "\n",
              "    .dataframe thead th {\n",
              "        text-align: right;\n",
              "    }\n",
              "</style>\n",
              "<table border=\"1\" class=\"dataframe\">\n",
              "  <thead>\n",
              "    <tr style=\"text-align: right;\">\n",
              "      <th></th>\n",
              "      <th>Name</th>\n",
              "      <th>Sex</th>\n",
              "      <th>DM type</th>\n",
              "      <th>DM treat</th>\n",
              "      <th>Statin</th>\n",
              "      <th>Dose ( Í2 if BID)</th>\n",
              "      <th>Age</th>\n",
              "      <th>BMI</th>\n",
              "      <th>DM duration</th>\n",
              "      <th>FBS</th>\n",
              "      <th>A1C</th>\n",
              "      <th>LDL</th>\n",
              "      <th>HDL</th>\n",
              "      <th>TG</th>\n",
              "      <th>Sys BP</th>\n",
              "      <th>Dias BP</th>\n",
              "      <th>Neu-pathy</th>\n",
              "      <th>Neph-pathy</th>\n",
              "      <th>Ret-pathy</th>\n",
              "      <th>PVD</th>\n",
              "      <th>CDV</th>\n",
              "      <th>Ft ulcer</th>\n",
              "      <th>Dawn ef</th>\n",
              "      <th>Unnamed: 23</th>\n",
              "      <th>Cum Atorvastatin Equ</th>\n",
              "      <th>Unnamed: 25</th>\n",
              "      <th>Real LDL</th>\n",
              "      <th>Male</th>\n",
              "    </tr>\n",
              "  </thead>\n",
              "  <tbody>\n",
              "    <tr>\n",
              "      <th>206</th>\n",
              "      <td>NaN</td>\n",
              "      <td>NaN</td>\n",
              "      <td>NaN</td>\n",
              "      <td>NaN</td>\n",
              "      <td>NaN</td>\n",
              "      <td>NaN</td>\n",
              "      <td>NaN</td>\n",
              "      <td>NaN</td>\n",
              "      <td>NaN</td>\n",
              "      <td>NaN</td>\n",
              "      <td>NaN</td>\n",
              "      <td>NaN</td>\n",
              "      <td>NaN</td>\n",
              "      <td>NaN</td>\n",
              "      <td>NaN</td>\n",
              "      <td>NaN</td>\n",
              "      <td>NaN</td>\n",
              "      <td>NaN</td>\n",
              "      <td>NaN</td>\n",
              "      <td>NaN</td>\n",
              "      <td>NaN</td>\n",
              "      <td>NaN</td>\n",
              "      <td>NaN</td>\n",
              "      <td>NaN</td>\n",
              "      <td>FALSE</td>\n",
              "      <td>NaN</td>\n",
              "      <td>0.0</td>\n",
              "      <td>NaN</td>\n",
              "    </tr>\n",
              "    <tr>\n",
              "      <th>207</th>\n",
              "      <td>NaN</td>\n",
              "      <td>NaN</td>\n",
              "      <td>NaN</td>\n",
              "      <td>NaN</td>\n",
              "      <td>NaN</td>\n",
              "      <td>NaN</td>\n",
              "      <td>NaN</td>\n",
              "      <td>NaN</td>\n",
              "      <td>NaN</td>\n",
              "      <td>NaN</td>\n",
              "      <td>NaN</td>\n",
              "      <td>NaN</td>\n",
              "      <td>NaN</td>\n",
              "      <td>NaN</td>\n",
              "      <td>NaN</td>\n",
              "      <td>NaN</td>\n",
              "      <td>NaN</td>\n",
              "      <td>NaN</td>\n",
              "      <td>NaN</td>\n",
              "      <td>NaN</td>\n",
              "      <td>NaN</td>\n",
              "      <td>NaN</td>\n",
              "      <td>NaN</td>\n",
              "      <td>NaN</td>\n",
              "      <td>FALSE</td>\n",
              "      <td>NaN</td>\n",
              "      <td>0.0</td>\n",
              "      <td>NaN</td>\n",
              "    </tr>\n",
              "    <tr>\n",
              "      <th>208</th>\n",
              "      <td>NaN</td>\n",
              "      <td>NaN</td>\n",
              "      <td>NaN</td>\n",
              "      <td>NaN</td>\n",
              "      <td>NaN</td>\n",
              "      <td>NaN</td>\n",
              "      <td>NaN</td>\n",
              "      <td>NaN</td>\n",
              "      <td>NaN</td>\n",
              "      <td>NaN</td>\n",
              "      <td>NaN</td>\n",
              "      <td>NaN</td>\n",
              "      <td>NaN</td>\n",
              "      <td>NaN</td>\n",
              "      <td>NaN</td>\n",
              "      <td>NaN</td>\n",
              "      <td>NaN</td>\n",
              "      <td>NaN</td>\n",
              "      <td>NaN</td>\n",
              "      <td>NaN</td>\n",
              "      <td>NaN</td>\n",
              "      <td>NaN</td>\n",
              "      <td>NaN</td>\n",
              "      <td>NaN</td>\n",
              "      <td>FALSE</td>\n",
              "      <td>NaN</td>\n",
              "      <td>0.0</td>\n",
              "      <td>NaN</td>\n",
              "    </tr>\n",
              "    <tr>\n",
              "      <th>209</th>\n",
              "      <td>NaN</td>\n",
              "      <td>NaN</td>\n",
              "      <td>NaN</td>\n",
              "      <td>NaN</td>\n",
              "      <td>NaN</td>\n",
              "      <td>NaN</td>\n",
              "      <td>NaN</td>\n",
              "      <td>NaN</td>\n",
              "      <td>NaN</td>\n",
              "      <td>NaN</td>\n",
              "      <td>NaN</td>\n",
              "      <td>NaN</td>\n",
              "      <td>NaN</td>\n",
              "      <td>NaN</td>\n",
              "      <td>NaN</td>\n",
              "      <td>NaN</td>\n",
              "      <td>NaN</td>\n",
              "      <td>NaN</td>\n",
              "      <td>NaN</td>\n",
              "      <td>NaN</td>\n",
              "      <td>NaN</td>\n",
              "      <td>NaN</td>\n",
              "      <td>NaN</td>\n",
              "      <td>NaN</td>\n",
              "      <td>FALSE</td>\n",
              "      <td>NaN</td>\n",
              "      <td>0.0</td>\n",
              "      <td>NaN</td>\n",
              "    </tr>\n",
              "    <tr>\n",
              "      <th>210</th>\n",
              "      <td>NaN</td>\n",
              "      <td>NaN</td>\n",
              "      <td>NaN</td>\n",
              "      <td>NaN</td>\n",
              "      <td>NaN</td>\n",
              "      <td>NaN</td>\n",
              "      <td>NaN</td>\n",
              "      <td>NaN</td>\n",
              "      <td>NaN</td>\n",
              "      <td>NaN</td>\n",
              "      <td>NaN</td>\n",
              "      <td>NaN</td>\n",
              "      <td>NaN</td>\n",
              "      <td>NaN</td>\n",
              "      <td>NaN</td>\n",
              "      <td>NaN</td>\n",
              "      <td>NaN</td>\n",
              "      <td>NaN</td>\n",
              "      <td>NaN</td>\n",
              "      <td>NaN</td>\n",
              "      <td>NaN</td>\n",
              "      <td>NaN</td>\n",
              "      <td>NaN</td>\n",
              "      <td>NaN</td>\n",
              "      <td>FALSE</td>\n",
              "      <td>NaN</td>\n",
              "      <td>0.0</td>\n",
              "      <td>NaN</td>\n",
              "    </tr>\n",
              "  </tbody>\n",
              "</table>\n",
              "</div>"
            ],
            "text/plain": [
              "     Name  Sex DM type  ... Unnamed: 25 Real LDL Male\n",
              "206   NaN  NaN     NaN  ...         NaN      0.0  NaN\n",
              "207   NaN  NaN     NaN  ...         NaN      0.0  NaN\n",
              "208   NaN  NaN     NaN  ...         NaN      0.0  NaN\n",
              "209   NaN  NaN     NaN  ...         NaN      0.0  NaN\n",
              "210   NaN  NaN     NaN  ...         NaN      0.0  NaN\n",
              "\n",
              "[5 rows x 28 columns]"
            ]
          },
          "metadata": {
            "tags": []
          },
          "execution_count": 3
        }
      ]
    },
    {
      "cell_type": "markdown",
      "metadata": {
        "id": "PdeZKvw-qvkv"
      },
      "source": [
        "***Note that :*** The observations are not right i.e., must drop the blank rows."
      ]
    },
    {
      "cell_type": "markdown",
      "metadata": {
        "id": "ioAqhRqLpa-3"
      },
      "source": [
        "Summarize data"
      ]
    },
    {
      "cell_type": "code",
      "metadata": {
        "id": "CMRND7FzpbZa",
        "colab": {
          "base_uri": "https://localhost:8080/",
          "height": 332
        },
        "outputId": "b27f3e36-db26-4aa8-bcc0-08513119b4cd"
      },
      "source": [
        "diabetes_data.describe()"
      ],
      "execution_count": null,
      "outputs": [
        {
          "output_type": "execute_result",
          "data": {
            "text/html": [
              "<div>\n",
              "<style scoped>\n",
              "    .dataframe tbody tr th:only-of-type {\n",
              "        vertical-align: middle;\n",
              "    }\n",
              "\n",
              "    .dataframe tbody tr th {\n",
              "        vertical-align: top;\n",
              "    }\n",
              "\n",
              "    .dataframe thead th {\n",
              "        text-align: right;\n",
              "    }\n",
              "</style>\n",
              "<table border=\"1\" class=\"dataframe\">\n",
              "  <thead>\n",
              "    <tr style=\"text-align: right;\">\n",
              "      <th></th>\n",
              "      <th>Name</th>\n",
              "      <th>Age</th>\n",
              "      <th>BMI</th>\n",
              "      <th>DM duration</th>\n",
              "      <th>FBS</th>\n",
              "      <th>A1C</th>\n",
              "      <th>LDL</th>\n",
              "      <th>HDL</th>\n",
              "      <th>TG</th>\n",
              "      <th>Sys BP</th>\n",
              "      <th>Dias BP</th>\n",
              "      <th>Unnamed: 23</th>\n",
              "      <th>Unnamed: 25</th>\n",
              "      <th>Real LDL</th>\n",
              "    </tr>\n",
              "  </thead>\n",
              "  <tbody>\n",
              "    <tr>\n",
              "      <th>count</th>\n",
              "      <td>133.00000</td>\n",
              "      <td>133.000000</td>\n",
              "      <td>133.000000</td>\n",
              "      <td>133.000000</td>\n",
              "      <td>133.000000</td>\n",
              "      <td>133.000000</td>\n",
              "      <td>133.000000</td>\n",
              "      <td>133.000000</td>\n",
              "      <td>133.000000</td>\n",
              "      <td>133.000000</td>\n",
              "      <td>133.000000</td>\n",
              "      <td>0.0</td>\n",
              "      <td>0.0</td>\n",
              "      <td>211.000000</td>\n",
              "    </tr>\n",
              "    <tr>\n",
              "      <th>mean</th>\n",
              "      <td>67.00000</td>\n",
              "      <td>54.345865</td>\n",
              "      <td>29.133835</td>\n",
              "      <td>10.279699</td>\n",
              "      <td>208.902256</td>\n",
              "      <td>10.607970</td>\n",
              "      <td>134.052632</td>\n",
              "      <td>37.082707</td>\n",
              "      <td>212.030075</td>\n",
              "      <td>144.060150</td>\n",
              "      <td>90.330827</td>\n",
              "      <td>NaN</td>\n",
              "      <td>NaN</td>\n",
              "      <td>109.993507</td>\n",
              "    </tr>\n",
              "    <tr>\n",
              "      <th>std</th>\n",
              "      <td>38.53786</td>\n",
              "      <td>12.542078</td>\n",
              "      <td>4.973671</td>\n",
              "      <td>6.852690</td>\n",
              "      <td>68.766829</td>\n",
              "      <td>10.858141</td>\n",
              "      <td>44.411355</td>\n",
              "      <td>7.047507</td>\n",
              "      <td>99.071671</td>\n",
              "      <td>18.891139</td>\n",
              "      <td>13.820122</td>\n",
              "      <td>NaN</td>\n",
              "      <td>NaN</td>\n",
              "      <td>98.590675</td>\n",
              "    </tr>\n",
              "    <tr>\n",
              "      <th>min</th>\n",
              "      <td>1.00000</td>\n",
              "      <td>16.000000</td>\n",
              "      <td>18.000000</td>\n",
              "      <td>0.000000</td>\n",
              "      <td>80.000000</td>\n",
              "      <td>6.500000</td>\n",
              "      <td>36.000000</td>\n",
              "      <td>20.000000</td>\n",
              "      <td>74.000000</td>\n",
              "      <td>105.000000</td>\n",
              "      <td>60.000000</td>\n",
              "      <td>NaN</td>\n",
              "      <td>NaN</td>\n",
              "      <td>0.000000</td>\n",
              "    </tr>\n",
              "    <tr>\n",
              "      <th>25%</th>\n",
              "      <td>34.00000</td>\n",
              "      <td>45.000000</td>\n",
              "      <td>27.000000</td>\n",
              "      <td>4.000000</td>\n",
              "      <td>159.000000</td>\n",
              "      <td>8.000000</td>\n",
              "      <td>107.000000</td>\n",
              "      <td>32.000000</td>\n",
              "      <td>150.000000</td>\n",
              "      <td>130.000000</td>\n",
              "      <td>80.000000</td>\n",
              "      <td>NaN</td>\n",
              "      <td>NaN</td>\n",
              "      <td>0.000000</td>\n",
              "    </tr>\n",
              "    <tr>\n",
              "      <th>50%</th>\n",
              "      <td>67.00000</td>\n",
              "      <td>55.000000</td>\n",
              "      <td>30.000000</td>\n",
              "      <td>10.000000</td>\n",
              "      <td>200.000000</td>\n",
              "      <td>9.400000</td>\n",
              "      <td>139.000000</td>\n",
              "      <td>38.000000</td>\n",
              "      <td>196.000000</td>\n",
              "      <td>150.000000</td>\n",
              "      <td>90.000000</td>\n",
              "      <td>NaN</td>\n",
              "      <td>NaN</td>\n",
              "      <td>113.000000</td>\n",
              "    </tr>\n",
              "    <tr>\n",
              "      <th>75%</th>\n",
              "      <td>100.00000</td>\n",
              "      <td>64.000000</td>\n",
              "      <td>33.000000</td>\n",
              "      <td>15.000000</td>\n",
              "      <td>257.000000</td>\n",
              "      <td>11.100000</td>\n",
              "      <td>162.000000</td>\n",
              "      <td>41.000000</td>\n",
              "      <td>236.000000</td>\n",
              "      <td>160.000000</td>\n",
              "      <td>100.000000</td>\n",
              "      <td>NaN</td>\n",
              "      <td>NaN</td>\n",
              "      <td>190.920000</td>\n",
              "    </tr>\n",
              "    <tr>\n",
              "      <th>max</th>\n",
              "      <td>133.00000</td>\n",
              "      <td>79.000000</td>\n",
              "      <td>41.000000</td>\n",
              "      <td>30.000000</td>\n",
              "      <td>510.000000</td>\n",
              "      <td>133.000000</td>\n",
              "      <td>267.000000</td>\n",
              "      <td>62.000000</td>\n",
              "      <td>756.000000</td>\n",
              "      <td>180.000000</td>\n",
              "      <td>120.000000</td>\n",
              "      <td>NaN</td>\n",
              "      <td>NaN</td>\n",
              "      <td>341.880000</td>\n",
              "    </tr>\n",
              "  </tbody>\n",
              "</table>\n",
              "</div>"
            ],
            "text/plain": [
              "            Name         Age         BMI  ...  Unnamed: 23  Unnamed: 25    Real LDL\n",
              "count  133.00000  133.000000  133.000000  ...          0.0          0.0  211.000000\n",
              "mean    67.00000   54.345865   29.133835  ...          NaN          NaN  109.993507\n",
              "std     38.53786   12.542078    4.973671  ...          NaN          NaN   98.590675\n",
              "min      1.00000   16.000000   18.000000  ...          NaN          NaN    0.000000\n",
              "25%     34.00000   45.000000   27.000000  ...          NaN          NaN    0.000000\n",
              "50%     67.00000   55.000000   30.000000  ...          NaN          NaN  113.000000\n",
              "75%    100.00000   64.000000   33.000000  ...          NaN          NaN  190.920000\n",
              "max    133.00000   79.000000   41.000000  ...          NaN          NaN  341.880000\n",
              "\n",
              "[8 rows x 14 columns]"
            ]
          },
          "metadata": {
            "tags": []
          },
          "execution_count": 4
        }
      ]
    },
    {
      "cell_type": "code",
      "metadata": {
        "id": "gOvwFskC-RmC",
        "colab": {
          "base_uri": "https://localhost:8080/"
        },
        "outputId": "bffcd0da-eda8-4805-b257-c0c925e0fcc0"
      },
      "source": [
        "list(diabetes_data.columns)"
      ],
      "execution_count": null,
      "outputs": [
        {
          "output_type": "execute_result",
          "data": {
            "text/plain": [
              "['Name',\n",
              " 'Sex',\n",
              " 'DM type',\n",
              " 'DM treat',\n",
              " 'Statin ',\n",
              " 'Dose ( Í2 if BID)',\n",
              " 'Age',\n",
              " 'BMI',\n",
              " 'DM duration',\n",
              " 'FBS',\n",
              " 'A1C',\n",
              " 'LDL',\n",
              " 'HDL',\n",
              " 'TG',\n",
              " 'Sys BP',\n",
              " 'Dias BP',\n",
              " 'Neu-pathy',\n",
              " 'Neph-pathy',\n",
              " 'Ret-pathy',\n",
              " 'PVD',\n",
              " 'CDV',\n",
              " 'Ft ulcer',\n",
              " 'Dawn ef',\n",
              " 'Unnamed: 23',\n",
              " 'Cum Atorvastatin Equ',\n",
              " 'Unnamed: 25',\n",
              " 'Real LDL',\n",
              " 'Male']"
            ]
          },
          "metadata": {
            "tags": []
          },
          "execution_count": 5
        }
      ]
    },
    {
      "cell_type": "markdown",
      "metadata": {
        "id": "a7M2extKyfeH"
      },
      "source": [
        "### **II** - **Cleaning**\n",
        "#####**1.** Check for missing data using counts() function\n",
        "#####**2.** Rename columns having spaces in their names\n",
        "#####**3.** Drop columns 24 and 26 as they are blank/empty.\n",
        "#####**4.** Drop columns that are not necessary in our analysis.\n",
        "#####**5.** Recode categorical values e.g., Yes -> 1 and No -> 0 .\n"
      ]
    },
    {
      "cell_type": "markdown",
      "metadata": {
        "id": "XZhNrF2GXusJ"
      },
      "source": [
        "We will drop columns Unnamed : 23, Unnanmed : 25 as they are empty columns. Also drop column Male since it is not necessary."
      ]
    },
    {
      "cell_type": "code",
      "metadata": {
        "id": "wuWJsgZWxUk8",
        "colab": {
          "base_uri": "https://localhost:8080/"
        },
        "outputId": "74fe6846-23b2-4cab-f260-21c0b2e817f7"
      },
      "source": [
        "# Drop blank columns 25\n",
        "# Drop last column as it is not required\n",
        "# Indexing starts from 0 hence i-1\n",
        "diabetes_data.drop(diabetes_data.columns[25], axis=1, inplace=True)\n",
        "diabetes_data.info()"
      ],
      "execution_count": null,
      "outputs": [
        {
          "output_type": "stream",
          "text": [
            "<class 'pandas.core.frame.DataFrame'>\n",
            "RangeIndex: 211 entries, 0 to 210\n",
            "Data columns (total 27 columns):\n",
            " #   Column                Non-Null Count  Dtype  \n",
            "---  ------                --------------  -----  \n",
            " 0   Name                  133 non-null    float64\n",
            " 1   Sex                   133 non-null    object \n",
            " 2   DM type               133 non-null    object \n",
            " 3   DM treat              133 non-null    object \n",
            " 4   Statin                133 non-null    object \n",
            " 5   Dose ( Í2 if BID)     133 non-null    object \n",
            " 6   Age                   133 non-null    float64\n",
            " 7   BMI                   133 non-null    float64\n",
            " 8   DM duration           133 non-null    float64\n",
            " 9   FBS                   133 non-null    float64\n",
            " 10  A1C                   133 non-null    float64\n",
            " 11  LDL                   133 non-null    float64\n",
            " 12  HDL                   133 non-null    float64\n",
            " 13  TG                    133 non-null    float64\n",
            " 14  Sys BP                133 non-null    float64\n",
            " 15  Dias BP               133 non-null    float64\n",
            " 16  Neu-pathy             133 non-null    object \n",
            " 17  Neph-pathy            133 non-null    object \n",
            " 18  Ret-pathy             133 non-null    object \n",
            " 19  PVD                   133 non-null    object \n",
            " 20  CDV                   133 non-null    object \n",
            " 21  Ft ulcer              133 non-null    object \n",
            " 22  Dawn ef               133 non-null    object \n",
            " 23  Unnamed: 23           0 non-null      float64\n",
            " 24  Cum Atorvastatin Equ  211 non-null    object \n",
            " 25  Real LDL              211 non-null    float64\n",
            " 26  Male                  18 non-null     object \n",
            "dtypes: float64(13), object(14)\n",
            "memory usage: 44.6+ KB\n"
          ],
          "name": "stdout"
        }
      ]
    },
    {
      "cell_type": "code",
      "metadata": {
        "id": "28codrnDAh1N",
        "colab": {
          "base_uri": "https://localhost:8080/"
        },
        "outputId": "d82832c3-0b71-46e3-b431-aca992d84308"
      },
      "source": [
        "# Drop blank columns 23\n",
        "diabetes_data.drop(diabetes_data.columns[23], axis=1, inplace = True)\n",
        "diabetes_data.info()"
      ],
      "execution_count": null,
      "outputs": [
        {
          "output_type": "stream",
          "text": [
            "<class 'pandas.core.frame.DataFrame'>\n",
            "RangeIndex: 211 entries, 0 to 210\n",
            "Data columns (total 26 columns):\n",
            " #   Column                Non-Null Count  Dtype  \n",
            "---  ------                --------------  -----  \n",
            " 0   Name                  133 non-null    float64\n",
            " 1   Sex                   133 non-null    object \n",
            " 2   DM type               133 non-null    object \n",
            " 3   DM treat              133 non-null    object \n",
            " 4   Statin                133 non-null    object \n",
            " 5   Dose ( Í2 if BID)     133 non-null    object \n",
            " 6   Age                   133 non-null    float64\n",
            " 7   BMI                   133 non-null    float64\n",
            " 8   DM duration           133 non-null    float64\n",
            " 9   FBS                   133 non-null    float64\n",
            " 10  A1C                   133 non-null    float64\n",
            " 11  LDL                   133 non-null    float64\n",
            " 12  HDL                   133 non-null    float64\n",
            " 13  TG                    133 non-null    float64\n",
            " 14  Sys BP                133 non-null    float64\n",
            " 15  Dias BP               133 non-null    float64\n",
            " 16  Neu-pathy             133 non-null    object \n",
            " 17  Neph-pathy            133 non-null    object \n",
            " 18  Ret-pathy             133 non-null    object \n",
            " 19  PVD                   133 non-null    object \n",
            " 20  CDV                   133 non-null    object \n",
            " 21  Ft ulcer              133 non-null    object \n",
            " 22  Dawn ef               133 non-null    object \n",
            " 23  Cum Atorvastatin Equ  211 non-null    object \n",
            " 24  Real LDL              211 non-null    float64\n",
            " 25  Male                  18 non-null     object \n",
            "dtypes: float64(12), object(14)\n",
            "memory usage: 43.0+ KB\n"
          ],
          "name": "stdout"
        }
      ]
    },
    {
      "cell_type": "code",
      "metadata": {
        "id": "CG2J_t7LzHzu",
        "colab": {
          "base_uri": "https://localhost:8080/"
        },
        "outputId": "9119a606-ad44-4603-a928-551afda16802"
      },
      "source": [
        "# Drop unnecessary column Male\n",
        "diabetes_data.drop(['Male'], axis=1, inplace = True)\n",
        "diabetes_data.info()"
      ],
      "execution_count": null,
      "outputs": [
        {
          "output_type": "stream",
          "text": [
            "<class 'pandas.core.frame.DataFrame'>\n",
            "RangeIndex: 211 entries, 0 to 210\n",
            "Data columns (total 25 columns):\n",
            " #   Column                Non-Null Count  Dtype  \n",
            "---  ------                --------------  -----  \n",
            " 0   Name                  133 non-null    float64\n",
            " 1   Sex                   133 non-null    object \n",
            " 2   DM type               133 non-null    object \n",
            " 3   DM treat              133 non-null    object \n",
            " 4   Statin                133 non-null    object \n",
            " 5   Dose ( Í2 if BID)     133 non-null    object \n",
            " 6   Age                   133 non-null    float64\n",
            " 7   BMI                   133 non-null    float64\n",
            " 8   DM duration           133 non-null    float64\n",
            " 9   FBS                   133 non-null    float64\n",
            " 10  A1C                   133 non-null    float64\n",
            " 11  LDL                   133 non-null    float64\n",
            " 12  HDL                   133 non-null    float64\n",
            " 13  TG                    133 non-null    float64\n",
            " 14  Sys BP                133 non-null    float64\n",
            " 15  Dias BP               133 non-null    float64\n",
            " 16  Neu-pathy             133 non-null    object \n",
            " 17  Neph-pathy            133 non-null    object \n",
            " 18  Ret-pathy             133 non-null    object \n",
            " 19  PVD                   133 non-null    object \n",
            " 20  CDV                   133 non-null    object \n",
            " 21  Ft ulcer              133 non-null    object \n",
            " 22  Dawn ef               133 non-null    object \n",
            " 23  Cum Atorvastatin Equ  211 non-null    object \n",
            " 24  Real LDL              211 non-null    float64\n",
            "dtypes: float64(12), object(13)\n",
            "memory usage: 41.3+ KB\n"
          ],
          "name": "stdout"
        }
      ]
    },
    {
      "cell_type": "markdown",
      "metadata": {
        "id": "DNdNfIcT1Sxb"
      },
      "source": [
        "Since, we will only model Neuropathy, Nephropathy and Retinopathy based on the predictors :\n",
        "\n",
        "1. Age\n",
        "\n",
        "2. Body Mass Index (BMI)\n",
        " \n",
        "3. Diabetes Mellitus duration (DM_duration)\n",
        "\n",
        "4. Fasting Blood Sugar (FBS)\n",
        "\n",
        "5. Glycated Haemoglobin (A1C)\n",
        "\n",
        "6. Low-density Lipoprotein (LDL)\n",
        "\n",
        "7. High-density Lipoprotein (HDL)\n",
        "\n",
        "8. Triglyceride (TG)\n",
        "\n",
        "9. Systolic Blood Pressure (Sys_BP)\n",
        "\n",
        "10. Diastolic Blood Pressure (Dias_BP),\n",
        "\n",
        "we will drop the rest of the columns which are :\n",
        "\n",
        "1. Name\n",
        "2. Sex\n",
        "3. DM_type\n",
        "4. DM_treat\n",
        "5. Statin\n",
        "6. Dose ( Í2 if BID)\n",
        "7. Dawn_ef\n",
        "8. Cum Atorvastatin Equ\n",
        "9. Real LDL\n",
        "10. PVD\n",
        "11. CDV\n",
        "12. Ft ulcer\n"
      ]
    },
    {
      "cell_type": "code",
      "metadata": {
        "id": "z8MFt2Ga02Cu",
        "colab": {
          "base_uri": "https://localhost:8080/"
        },
        "outputId": "5c596b83-0603-4967-c7be-8e766f2c1245"
      },
      "source": [
        "# Drop unnecessary columns\n",
        "diabetes_data.drop(['Name', 'Sex', 'DM type', 'DM treat', 'Statin ', 'Dose ( Í2 if BID)', 'Dawn ef', 'Cum Atorvastatin Equ', 'Real LDL', 'PVD', 'CDV', 'Ft ulcer'], axis=1, inplace = True)\n",
        "diabetes_data.info()"
      ],
      "execution_count": null,
      "outputs": [
        {
          "output_type": "stream",
          "text": [
            "<class 'pandas.core.frame.DataFrame'>\n",
            "RangeIndex: 211 entries, 0 to 210\n",
            "Data columns (total 13 columns):\n",
            " #   Column       Non-Null Count  Dtype  \n",
            "---  ------       --------------  -----  \n",
            " 0   Age          133 non-null    float64\n",
            " 1   BMI          133 non-null    float64\n",
            " 2   DM duration  133 non-null    float64\n",
            " 3   FBS          133 non-null    float64\n",
            " 4   A1C          133 non-null    float64\n",
            " 5   LDL          133 non-null    float64\n",
            " 6   HDL          133 non-null    float64\n",
            " 7   TG           133 non-null    float64\n",
            " 8   Sys BP       133 non-null    float64\n",
            " 9   Dias BP      133 non-null    float64\n",
            " 10  Neu-pathy    133 non-null    object \n",
            " 11  Neph-pathy   133 non-null    object \n",
            " 12  Ret-pathy    133 non-null    object \n",
            "dtypes: float64(10), object(3)\n",
            "memory usage: 21.6+ KB\n"
          ],
          "name": "stdout"
        }
      ]
    },
    {
      "cell_type": "markdown",
      "metadata": {
        "id": "xuJy8s2zXScE"
      },
      "source": [
        "After dropping empty columns we will check if any more empty cells are still present."
      ]
    },
    {
      "cell_type": "code",
      "metadata": {
        "id": "rP4R1IYKW3H0",
        "colab": {
          "base_uri": "https://localhost:8080/"
        },
        "outputId": "952e7f2f-0613-40e5-f86f-17f4d0f79cf1"
      },
      "source": [
        "# Count total NaN at each column in a DataFrame\n",
        "print(\" \\nCount total NaN at each column in a DataFrame : \\n\\n\", diabetes_data.isnull().sum())"
      ],
      "execution_count": null,
      "outputs": [
        {
          "output_type": "stream",
          "text": [
            " \n",
            "Count total NaN at each column in a DataFrame : \n",
            "\n",
            " Age            78\n",
            "BMI            78\n",
            "DM duration    78\n",
            "FBS            78\n",
            "A1C            78\n",
            "LDL            78\n",
            "HDL            78\n",
            "TG             78\n",
            "Sys BP         78\n",
            "Dias BP        78\n",
            "Neu-pathy      78\n",
            "Neph-pathy     78\n",
            "Ret-pathy      78\n",
            "dtype: int64\n"
          ],
          "name": "stdout"
        }
      ]
    },
    {
      "cell_type": "markdown",
      "metadata": {
        "id": "MIYE3SV7Xchk"
      },
      "source": [
        "We need to delete 78 blank rows from each column. "
      ]
    },
    {
      "cell_type": "code",
      "metadata": {
        "id": "epUV7A9ZW89e",
        "colab": {
          "base_uri": "https://localhost:8080/"
        },
        "outputId": "914da8fa-1fa2-48f6-e115-73433bb15ab6"
      },
      "source": [
        "# Drop empty rows\n",
        "diabetes_data.dropna(inplace=True)\n",
        "# Verify\n",
        "diabetes_data.isnull().sum()"
      ],
      "execution_count": null,
      "outputs": [
        {
          "output_type": "execute_result",
          "data": {
            "text/plain": [
              "Age            0\n",
              "BMI            0\n",
              "DM duration    0\n",
              "FBS            0\n",
              "A1C            0\n",
              "LDL            0\n",
              "HDL            0\n",
              "TG             0\n",
              "Sys BP         0\n",
              "Dias BP        0\n",
              "Neu-pathy      0\n",
              "Neph-pathy     0\n",
              "Ret-pathy      0\n",
              "dtype: int64"
            ]
          },
          "metadata": {
            "tags": []
          },
          "execution_count": 11
        }
      ]
    },
    {
      "cell_type": "markdown",
      "metadata": {
        "id": "PNrsDEagX1Xh"
      },
      "source": [
        "Recall the last 5 rows displayed had all null values. So let's check again."
      ]
    },
    {
      "cell_type": "code",
      "metadata": {
        "id": "87sHKBlbXL7n",
        "colab": {
          "base_uri": "https://localhost:8080/",
          "height": 203
        },
        "outputId": "cc5a9d30-480f-40a7-8b79-7d9c9cd18c22"
      },
      "source": [
        "diabetes_data.tail(5)"
      ],
      "execution_count": null,
      "outputs": [
        {
          "output_type": "execute_result",
          "data": {
            "text/html": [
              "<div>\n",
              "<style scoped>\n",
              "    .dataframe tbody tr th:only-of-type {\n",
              "        vertical-align: middle;\n",
              "    }\n",
              "\n",
              "    .dataframe tbody tr th {\n",
              "        vertical-align: top;\n",
              "    }\n",
              "\n",
              "    .dataframe thead th {\n",
              "        text-align: right;\n",
              "    }\n",
              "</style>\n",
              "<table border=\"1\" class=\"dataframe\">\n",
              "  <thead>\n",
              "    <tr style=\"text-align: right;\">\n",
              "      <th></th>\n",
              "      <th>Age</th>\n",
              "      <th>BMI</th>\n",
              "      <th>DM duration</th>\n",
              "      <th>FBS</th>\n",
              "      <th>A1C</th>\n",
              "      <th>LDL</th>\n",
              "      <th>HDL</th>\n",
              "      <th>TG</th>\n",
              "      <th>Sys BP</th>\n",
              "      <th>Dias BP</th>\n",
              "      <th>Neu-pathy</th>\n",
              "      <th>Neph-pathy</th>\n",
              "      <th>Ret-pathy</th>\n",
              "    </tr>\n",
              "  </thead>\n",
              "  <tbody>\n",
              "    <tr>\n",
              "      <th>128</th>\n",
              "      <td>52.0</td>\n",
              "      <td>34.5</td>\n",
              "      <td>3.0</td>\n",
              "      <td>138.0</td>\n",
              "      <td>7.33</td>\n",
              "      <td>113.0</td>\n",
              "      <td>33.0</td>\n",
              "      <td>217.0</td>\n",
              "      <td>115.0</td>\n",
              "      <td>75.0</td>\n",
              "      <td>Yes</td>\n",
              "      <td>No</td>\n",
              "      <td>No</td>\n",
              "    </tr>\n",
              "    <tr>\n",
              "      <th>129</th>\n",
              "      <td>56.0</td>\n",
              "      <td>22.0</td>\n",
              "      <td>3.0</td>\n",
              "      <td>156.0</td>\n",
              "      <td>7.16</td>\n",
              "      <td>80.0</td>\n",
              "      <td>43.0</td>\n",
              "      <td>179.0</td>\n",
              "      <td>130.0</td>\n",
              "      <td>90.0</td>\n",
              "      <td>No</td>\n",
              "      <td>No</td>\n",
              "      <td>No</td>\n",
              "    </tr>\n",
              "    <tr>\n",
              "      <th>130</th>\n",
              "      <td>65.0</td>\n",
              "      <td>24.0</td>\n",
              "      <td>3.0</td>\n",
              "      <td>300.0</td>\n",
              "      <td>9.67</td>\n",
              "      <td>58.0</td>\n",
              "      <td>20.0</td>\n",
              "      <td>96.0</td>\n",
              "      <td>120.0</td>\n",
              "      <td>80.0</td>\n",
              "      <td>Yes</td>\n",
              "      <td>Yes</td>\n",
              "      <td>Yes</td>\n",
              "    </tr>\n",
              "    <tr>\n",
              "      <th>131</th>\n",
              "      <td>56.0</td>\n",
              "      <td>33.0</td>\n",
              "      <td>5.0</td>\n",
              "      <td>213.0</td>\n",
              "      <td>8.74</td>\n",
              "      <td>107.0</td>\n",
              "      <td>34.0</td>\n",
              "      <td>756.0</td>\n",
              "      <td>155.0</td>\n",
              "      <td>110.0</td>\n",
              "      <td>Yes</td>\n",
              "      <td>Yes</td>\n",
              "      <td>Yes</td>\n",
              "    </tr>\n",
              "    <tr>\n",
              "      <th>132</th>\n",
              "      <td>48.0</td>\n",
              "      <td>31.0</td>\n",
              "      <td>2.0</td>\n",
              "      <td>159.0</td>\n",
              "      <td>7.45</td>\n",
              "      <td>141.0</td>\n",
              "      <td>39.0</td>\n",
              "      <td>197.0</td>\n",
              "      <td>120.0</td>\n",
              "      <td>80.0</td>\n",
              "      <td>No</td>\n",
              "      <td>No</td>\n",
              "      <td>No</td>\n",
              "    </tr>\n",
              "  </tbody>\n",
              "</table>\n",
              "</div>"
            ],
            "text/plain": [
              "      Age   BMI  DM duration    FBS  ...  Dias BP  Neu-pathy  Neph-pathy  Ret-pathy\n",
              "128  52.0  34.5          3.0  138.0  ...     75.0       Yes           No         No\n",
              "129  56.0  22.0          3.0  156.0  ...     90.0         No          No         No\n",
              "130  65.0  24.0          3.0  300.0  ...     80.0       Yes         Yes        Yes \n",
              "131  56.0  33.0          5.0  213.0  ...    110.0       Yes         Yes        Yes \n",
              "132  48.0  31.0          2.0  159.0  ...     80.0         No          No         No\n",
              "\n",
              "[5 rows x 13 columns]"
            ]
          },
          "metadata": {
            "tags": []
          },
          "execution_count": 12
        }
      ]
    },
    {
      "cell_type": "markdown",
      "metadata": {
        "id": "QOY1nWL-7FXE"
      },
      "source": [
        "No more null values present!!"
      ]
    },
    {
      "cell_type": "code",
      "metadata": {
        "id": "DYEdrRJcqK0Y",
        "colab": {
          "base_uri": "https://localhost:8080/"
        },
        "outputId": "5d7d54be-e659-4114-89c8-78e763bb52c4"
      },
      "source": [
        "# Age column\n",
        "diabetes_data.Age.value_counts()"
      ],
      "execution_count": null,
      "outputs": [
        {
          "output_type": "execute_result",
          "data": {
            "text/plain": [
              "61.0    8\n",
              "68.0    7\n",
              "70.0    6\n",
              "59.0    6\n",
              "52.0    5\n",
              "64.0    5\n",
              "43.0    5\n",
              "49.0    5\n",
              "39.0    4\n",
              "45.0    4\n",
              "66.0    4\n",
              "65.0    4\n",
              "56.0    4\n",
              "44.0    4\n",
              "63.0    4\n",
              "54.0    4\n",
              "55.0    4\n",
              "50.0    3\n",
              "51.0    3\n",
              "58.0    3\n",
              "46.0    3\n",
              "48.0    3\n",
              "57.0    3\n",
              "69.0    3\n",
              "60.0    2\n",
              "53.0    2\n",
              "37.0    2\n",
              "78.0    2\n",
              "79.0    2\n",
              "33.0    2\n",
              "35.0    2\n",
              "41.0    2\n",
              "38.0    2\n",
              "76.0    1\n",
              "27.0    1\n",
              "47.0    1\n",
              "23.0    1\n",
              "36.0    1\n",
              "67.0    1\n",
              "16.0    1\n",
              "19.0    1\n",
              "73.0    1\n",
              "31.0    1\n",
              "42.0    1\n",
              "Name: Age, dtype: int64"
            ]
          },
          "metadata": {
            "tags": []
          },
          "execution_count": 13
        }
      ]
    },
    {
      "cell_type": "code",
      "metadata": {
        "id": "QSVbuJPXr3An",
        "colab": {
          "base_uri": "https://localhost:8080/"
        },
        "outputId": "0bf66520-9978-422c-c243-b5e0c3152cb7"
      },
      "source": [
        "# BMI column\n",
        "diabetes_data.BMI.value_counts()"
      ],
      "execution_count": null,
      "outputs": [
        {
          "output_type": "execute_result",
          "data": {
            "text/plain": [
              "31.0    14\n",
              "30.0    12\n",
              "28.0    12\n",
              "27.0    10\n",
              "29.0    10\n",
              "33.0    10\n",
              "34.0     9\n",
              "20.0     5\n",
              "32.0     5\n",
              "35.0     5\n",
              "25.0     5\n",
              "26.0     4\n",
              "36.0     3\n",
              "23.0     3\n",
              "24.0     3\n",
              "19.0     3\n",
              "39.0     2\n",
              "22.0     2\n",
              "38.0     2\n",
              "18.0     2\n",
              "37.0     2\n",
              "30.5     1\n",
              "23.5     1\n",
              "19.5     1\n",
              "41.0     1\n",
              "27.3     1\n",
              "21.5     1\n",
              "34.5     1\n",
              "21.0     1\n",
              "33.7     1\n",
              "18.3     1\n",
              "Name: BMI, dtype: int64"
            ]
          },
          "metadata": {
            "tags": []
          },
          "execution_count": 14
        }
      ]
    },
    {
      "cell_type": "code",
      "metadata": {
        "id": "n5JsROuivMNj",
        "colab": {
          "base_uri": "https://localhost:8080/"
        },
        "outputId": "be6e89e5-195c-4bbf-bf6b-e06d36dafb90"
      },
      "source": [
        "# DM duration column\n",
        "# Remove spave from column name\n",
        "diabetes_data.rename(columns={'DM duration':'DM_duration'}, inplace = True)\n",
        "diabetes_data.DM_duration.value_counts()"
      ],
      "execution_count": null,
      "outputs": [
        {
          "output_type": "execute_result",
          "data": {
            "text/plain": [
              "3.0     13\n",
              "10.0     9\n",
              "7.0      8\n",
              "8.0      8\n",
              "13.0     7\n",
              "4.0      7\n",
              "2.0      7\n",
              "15.0     7\n",
              "5.0      7\n",
              "20.0     6\n",
              "14.0     6\n",
              "11.0     5\n",
              "1.0      5\n",
              "9.0      5\n",
              "17.0     5\n",
              "18.0     5\n",
              "12.0     4\n",
              "19.0     3\n",
              "6.0      3\n",
              "22.0     2\n",
              "0.0      2\n",
              "21.0     2\n",
              "26.0     1\n",
              "23.0     1\n",
              "30.0     1\n",
              "29.0     1\n",
              "16.0     1\n",
              "28.0     1\n",
              "0.2      1\n",
              "Name: DM_duration, dtype: int64"
            ]
          },
          "metadata": {
            "tags": []
          },
          "execution_count": 15
        }
      ]
    },
    {
      "cell_type": "code",
      "metadata": {
        "id": "QvOyFYcSvcPp",
        "colab": {
          "base_uri": "https://localhost:8080/"
        },
        "outputId": "24e1caff-f6e1-42f9-d009-cf66ad61171b"
      },
      "source": [
        "# FBS column\n",
        "diabetes_data.FBS.value_counts()"
      ],
      "execution_count": null,
      "outputs": [
        {
          "output_type": "execute_result",
          "data": {
            "text/plain": [
              "280.0    5\n",
              "198.0    4\n",
              "159.0    3\n",
              "163.0    3\n",
              "154.0    3\n",
              "        ..\n",
              "245.0    1\n",
              "510.0    1\n",
              "140.0    1\n",
              "214.0    1\n",
              "129.0    1\n",
              "Name: FBS, Length: 91, dtype: int64"
            ]
          },
          "metadata": {
            "tags": []
          },
          "execution_count": 16
        }
      ]
    },
    {
      "cell_type": "code",
      "metadata": {
        "id": "zYgkHuYRvkT6",
        "colab": {
          "base_uri": "https://localhost:8080/"
        },
        "outputId": "3761581a-3ffb-446d-903e-77aabccc260c"
      },
      "source": [
        "# A1C column\n",
        "diabetes_data.A1C.value_counts()"
      ],
      "execution_count": null,
      "outputs": [
        {
          "output_type": "execute_result",
          "data": {
            "text/plain": [
              "8.00     7\n",
              "7.80     6\n",
              "13.00    6\n",
              "10.80    5\n",
              "10.00    5\n",
              "        ..\n",
              "13.20    1\n",
              "13.10    1\n",
              "7.83     1\n",
              "10.40    1\n",
              "10.90    1\n",
              "Name: A1C, Length: 75, dtype: int64"
            ]
          },
          "metadata": {
            "tags": []
          },
          "execution_count": 17
        }
      ]
    },
    {
      "cell_type": "code",
      "metadata": {
        "id": "dg27muVPvoAj",
        "colab": {
          "base_uri": "https://localhost:8080/"
        },
        "outputId": "08714281-8763-4bdc-a23a-f17c75a71edb"
      },
      "source": [
        "# LDL column\n",
        "diabetes_data.LDL.value_counts()"
      ],
      "execution_count": null,
      "outputs": [
        {
          "output_type": "execute_result",
          "data": {
            "text/plain": [
              "141.0    4\n",
              "161.0    4\n",
              "139.0    4\n",
              "131.0    4\n",
              "130.0    4\n",
              "        ..\n",
              "71.0     1\n",
              "231.0    1\n",
              "267.0    1\n",
              "208.0    1\n",
              "182.0    1\n",
              "Name: LDL, Length: 86, dtype: int64"
            ]
          },
          "metadata": {
            "tags": []
          },
          "execution_count": 18
        }
      ]
    },
    {
      "cell_type": "code",
      "metadata": {
        "id": "Ng707JTMvrZC",
        "colab": {
          "base_uri": "https://localhost:8080/"
        },
        "outputId": "d15bb19e-96a7-4b06-b9c2-e578c8ac52f0"
      },
      "source": [
        "# HDL column\n",
        "diabetes_data.HDL.value_counts()"
      ],
      "execution_count": null,
      "outputs": [
        {
          "output_type": "execute_result",
          "data": {
            "text/plain": [
              "40.0    15\n",
              "38.0    12\n",
              "37.0     9\n",
              "41.0     8\n",
              "35.0     7\n",
              "31.0     7\n",
              "30.0     7\n",
              "39.0     7\n",
              "32.0     6\n",
              "33.0     5\n",
              "29.0     5\n",
              "43.0     5\n",
              "42.0     4\n",
              "36.0     4\n",
              "34.0     4\n",
              "47.0     4\n",
              "46.0     3\n",
              "45.0     3\n",
              "28.0     3\n",
              "48.0     2\n",
              "22.0     2\n",
              "21.0     1\n",
              "25.0     1\n",
              "24.0     1\n",
              "44.0     1\n",
              "62.0     1\n",
              "60.0     1\n",
              "59.0     1\n",
              "26.0     1\n",
              "52.0     1\n",
              "27.0     1\n",
              "20.0     1\n",
              "Name: HDL, dtype: int64"
            ]
          },
          "metadata": {
            "tags": []
          },
          "execution_count": 19
        }
      ]
    },
    {
      "cell_type": "code",
      "metadata": {
        "id": "-Y1TQQgqvt9t",
        "colab": {
          "base_uri": "https://localhost:8080/"
        },
        "outputId": "49c6ac6f-0544-4f8e-ec86-c7c9cdcd3735"
      },
      "source": [
        "# TG column\n",
        "diabetes_data.TG.value_counts()"
      ],
      "execution_count": null,
      "outputs": [
        {
          "output_type": "execute_result",
          "data": {
            "text/plain": [
              "217.0    4\n",
              "197.0    4\n",
              "200.0    3\n",
              "198.0    2\n",
              "179.0    2\n",
              "        ..\n",
              "363.0    1\n",
              "208.0    1\n",
              "176.0    1\n",
              "233.0    1\n",
              "210.0    1\n",
              "Name: TG, Length: 96, dtype: int64"
            ]
          },
          "metadata": {
            "tags": []
          },
          "execution_count": 20
        }
      ]
    },
    {
      "cell_type": "code",
      "metadata": {
        "id": "LbZNRQ_twOVW",
        "colab": {
          "base_uri": "https://localhost:8080/"
        },
        "outputId": "a9de27bb-de3a-48db-d1e5-2b5c9aa3d6a0"
      },
      "source": [
        "# Neu-pathy column\n",
        "# Remove hiphen from column name\n",
        "diabetes_data.rename(columns={'Neu-pathy':'Neu_pathy'}, inplace = True)\n",
        "# Replace 'No' to 0 and 'Yes' to 1\n",
        "diabetes_data.replace(to_replace=['No','Yes '],value = [0,1],inplace = True)\n",
        "# Change the format of 'Neu_pathy' to category.\n",
        "diabetes_data['Neu_pathy'] = diabetes_data['Neu_pathy'].astype('int')\n",
        "diabetes_data.Neu_pathy.value_counts()"
      ],
      "execution_count": null,
      "outputs": [
        {
          "output_type": "execute_result",
          "data": {
            "text/plain": [
              "1    75\n",
              "0    58\n",
              "Name: Neu_pathy, dtype: int64"
            ]
          },
          "metadata": {
            "tags": []
          },
          "execution_count": 21
        }
      ]
    },
    {
      "cell_type": "code",
      "metadata": {
        "id": "qbgdCxh7whEz",
        "colab": {
          "base_uri": "https://localhost:8080/"
        },
        "outputId": "a59bc224-f292-4374-d07f-72298585544e"
      },
      "source": [
        "# Neph-pathy column\n",
        "# Remove hiphen from column name\n",
        "diabetes_data.rename(columns={'Neph-pathy':'Neph_pathy'}, inplace = True)\n",
        "diabetes_data.Neph_pathy.value_counts()\n"
      ],
      "execution_count": null,
      "outputs": [
        {
          "output_type": "execute_result",
          "data": {
            "text/plain": [
              "1    73\n",
              "0    60\n",
              "Name: Neph_pathy, dtype: int64"
            ]
          },
          "metadata": {
            "tags": []
          },
          "execution_count": 22
        }
      ]
    },
    {
      "cell_type": "code",
      "metadata": {
        "id": "YOVnFaQwwkbv",
        "colab": {
          "base_uri": "https://localhost:8080/"
        },
        "outputId": "8591ef3e-ce65-43b3-8062-22727c40f4c7"
      },
      "source": [
        "# Ret-pathy column\n",
        "# Remove hiphen from column name\n",
        "diabetes_data.rename(columns={'Ret-pathy':'Ret_pathy'}, inplace = True)\n",
        "diabetes_data.Ret_pathy.value_counts()"
      ],
      "execution_count": null,
      "outputs": [
        {
          "output_type": "execute_result",
          "data": {
            "text/plain": [
              "0    91\n",
              "1    42\n",
              "Name: Ret_pathy, dtype: int64"
            ]
          },
          "metadata": {
            "tags": []
          },
          "execution_count": 23
        }
      ]
    },
    {
      "cell_type": "code",
      "metadata": {
        "id": "etluhOCnxEtj",
        "colab": {
          "base_uri": "https://localhost:8080/"
        },
        "outputId": "ce1ff026-e57f-48de-b52d-4d97d7654297"
      },
      "source": [
        "# Sys BP column\n",
        "# Remove spave from column name\n",
        "diabetes_data.rename(columns={'Sys BP':'Sys_BP'}, inplace = True)\n",
        "diabetes_data.Sys_BP.value_counts()"
      ],
      "execution_count": null,
      "outputs": [
        {
          "output_type": "execute_result",
          "data": {
            "text/plain": [
              "160.0    27\n",
              "120.0    16\n",
              "140.0    15\n",
              "130.0    13\n",
              "150.0    12\n",
              "165.0    11\n",
              "110.0     9\n",
              "155.0     9\n",
              "170.0     7\n",
              "145.0     5\n",
              "115.0     2\n",
              "125.0     2\n",
              "180.0     2\n",
              "135.0     2\n",
              "105.0     1\n",
              "Name: Sys_BP, dtype: int64"
            ]
          },
          "metadata": {
            "tags": []
          },
          "execution_count": 24
        }
      ]
    },
    {
      "cell_type": "code",
      "metadata": {
        "id": "JqK47ZukuZdG",
        "colab": {
          "base_uri": "https://localhost:8080/"
        },
        "outputId": "ab3453e8-0282-4247-d5fa-0bb39eadff5f"
      },
      "source": [
        "# Dias BP column\n",
        "# Remove spave from column name\n",
        "diabetes_data.rename(columns={'Dias BP':'Dias_BP'}, inplace = True)\n",
        "diabetes_data.Dias_BP.value_counts()"
      ],
      "execution_count": null,
      "outputs": [
        {
          "output_type": "execute_result",
          "data": {
            "text/plain": [
              "80.0     34\n",
              "90.0     27\n",
              "100.0    22\n",
              "110.0    16\n",
              "70.0     11\n",
              "120.0     6\n",
              "95.0      6\n",
              "85.0      5\n",
              "60.0      3\n",
              "75.0      2\n",
              "89.0      1\n",
              "Name: Dias_BP, dtype: int64"
            ]
          },
          "metadata": {
            "tags": []
          },
          "execution_count": 25
        }
      ]
    },
    {
      "cell_type": "markdown",
      "metadata": {
        "id": "5RV-Ux5bxVOg"
      },
      "source": [
        "### **II** - **Analysis**\n",
        "#####**1.** Plot Pearson's correlation heatmap \n",
        "#####**2.** The correlation coefficient has values between -1 to 1\n",
        "  — A value closer to 0 implies weaker correlation (exact 0 implying no correlation)\n",
        "\n",
        "  — A value closer to 1 implies stronger positive correlation\n",
        "\n",
        "  — A value closer to -1 implies stronger negative correlation\n",
        "#####**3.** We will only select features which has correlation of above **0.50** (taking absolute value) with the output variable.\n"
      ]
    },
    {
      "cell_type": "code",
      "metadata": {
        "id": "fmTZx0GTorKk",
        "colab": {
          "base_uri": "https://localhost:8080/",
          "height": 449
        },
        "outputId": "9bfb0be7-2cd7-4d30-b9ff-1ed9026ed2fc"
      },
      "source": [
        "import seaborn as sns\n",
        "import matplotlib.pyplot as plt\n",
        "%matplotlib inline\n",
        "\n",
        "\n",
        "# Correlation matrix\n",
        "cor = diabetes_data.corr()\n",
        "\n",
        "# Plotting Heatmap\n",
        "plt.figure(figsize = (10,6))\n",
        "sns.heatmap(cor,annot = True)"
      ],
      "execution_count": null,
      "outputs": [
        {
          "output_type": "execute_result",
          "data": {
            "text/plain": [
              "<matplotlib.axes._subplots.AxesSubplot at 0x7fa206f60c50>"
            ]
          },
          "metadata": {
            "tags": []
          },
          "execution_count": 26
        },
        {
          "output_type": "display_data",
          "data": {
            "image/png": "[encoded data removed]",
            "text/plain": [
              "<Figure size 720x432 with 2 Axes>"
            ]
          },
          "metadata": {
            "tags": [],
            "needs_background": "light"
          }
        }
      ]
    },
    {
      "cell_type": "markdown",
      "metadata": {
        "id": "E8uE0piI2pvk"
      },
      "source": [
        "**Note that :** Most correlation coefficient are less than 0.50. Hence, we cannot use this method to determine the required features for our model.\n",
        "\n",
        "<br>Therefore, we will use **Backward elimination** (aka backward deletion) method that enters all the features into the model equation at once and then eliminates/deletes them one-by-one based on their contribbution to the regression model which is measured using p-value significance.\n"
      ]
    },
    {
      "cell_type": "markdown",
      "metadata": {
        "id": "Nzknao4uzFJm"
      },
      "source": [
        "#### **1.** Neuropathy prediction model\n",
        "\n",
        "**Step 1:**  \n",
        "***Feature Selection*** : Using Backward elimination method\n",
        "\n",
        "Steps :\n",
        "\n",
        "1.1. Select a significance level, say 5% (0.05)\n",
        "\n",
        "1.2. Fit a model with all features (variables)\n",
        "\n",
        "1.3. Consider the feature with the highest P-Value. If its P-value is greater than significance level (P > SL), go to step 1.4. Else, the model is ready.\n",
        "\n",
        "1.4. Eliminate this feature (variable).\n",
        "\n",
        "1.5. Fit a model with the new set of features, and go to step 1.3.\n",
        "\n",
        "**Step 2:**   \n",
        "***Regression model***  : We are going to use a **Logistic Regression model** since the outcome variable Neu_pathy is dichotomous (*binary*) i.e., takes values either 0 (*no*) or 1 (*yes*). "
      ]
    },
    {
      "cell_type": "code",
      "metadata": {
        "id": "rqQfm6VSNKNt",
        "colab": {
          "base_uri": "https://localhost:8080/"
        },
        "outputId": "b4abba75-0112-47b2-a374-0072de52a09f"
      },
      "source": [
        "#importing libraries\n",
        "import matplotlib\n",
        "import statsmodels.api as sm\n",
        "\n",
        "from sklearn.model_selection import train_test_split\n",
        "from sklearn.linear_model import LogisticRegression\n",
        "\n",
        "#Feature Matrix\n",
        "X = diabetes_data[['Age', 'BMI', 'DM_duration', 'FBS', 'A1C', 'LDL', 'TG', 'Sys_BP','Dias_BP']]   \n",
        "#Target Variable\n",
        "y = diabetes_data[\"Neu_pathy\"]          \n",
        "\n",
        "#Adding constant column of ones, mandatory for sm.OLS model\n",
        "X_1 = sm.add_constant(X)\n",
        "#Fitting sm.OLS model\n",
        "model = sm.OLS(y,X_1).fit()\n",
        "model.pvalues"
      ],
      "execution_count": null,
      "outputs": [
        {
          "output_type": "stream",
          "text": [
            "/usr/local/lib/python3.7/dist-packages/statsmodels/tools/_testing.py:19: FutureWarning: pandas.util.testing is deprecated. Use the functions in the public API at pandas.testing instead.\n",
            "  import pandas.util.testing as tm\n"
          ],
          "name": "stderr"
        },
        {
          "output_type": "execute_result",
          "data": {
            "text/plain": [
              "const          0.467641\n",
              "Age            0.000967\n",
              "BMI            0.946482\n",
              "DM_duration    0.020545\n",
              "FBS            0.085112\n",
              "A1C            0.916781\n",
              "LDL            0.624686\n",
              "TG             0.476795\n",
              "Sys_BP         0.680633\n",
              "Dias_BP        0.905211\n",
              "dtype: float64"
            ]
          },
          "metadata": {
            "tags": []
          },
          "execution_count": 27
        }
      ]
    },
    {
      "cell_type": "code",
      "metadata": {
        "id": "GfXzwa2ks7ot",
        "colab": {
          "base_uri": "https://localhost:8080/"
        },
        "outputId": "14752ea7-0458-4fbe-a0ea-3a4a96950f9f"
      },
      "source": [
        "#Backward Elimination\n",
        "cols = list(X.columns)\n",
        "pmax = 1\n",
        "while (len(cols)>0):\n",
        "    p= []\n",
        "    X_1 = X[cols]\n",
        "    X_1 = sm.add_constant(X_1)\n",
        "    model = sm.OLS(y,X_1).fit()\n",
        "    p = pd.Series(model.pvalues.values[1:],index = cols)      \n",
        "    pmax = max(p)\n",
        "    feature_with_p_max = p.idxmax()\n",
        "    if(pmax>0.10):\n",
        "        cols.remove(feature_with_p_max)\n",
        "    else:\n",
        "        break\n",
        "selected_features_BE = cols\n",
        "print(selected_features_BE)"
      ],
      "execution_count": null,
      "outputs": [
        {
          "output_type": "stream",
          "text": [
            "['Age', 'DM_duration', 'FBS']\n"
          ],
          "name": "stdout"
        }
      ]
    },
    {
      "cell_type": "code",
      "metadata": {
        "id": "LHZ_RVAy-a7H",
        "colab": {
          "base_uri": "https://localhost:8080/",
          "height": 417
        },
        "outputId": "1688e8e7-1b3a-41cb-f201-5b2080db9c5a"
      },
      "source": [
        "X_1"
      ],
      "execution_count": null,
      "outputs": [
        {
          "output_type": "execute_result",
          "data": {
            "text/html": [
              "<div>\n",
              "<style scoped>\n",
              "    .dataframe tbody tr th:only-of-type {\n",
              "        vertical-align: middle;\n",
              "    }\n",
              "\n",
              "    .dataframe tbody tr th {\n",
              "        vertical-align: top;\n",
              "    }\n",
              "\n",
              "    .dataframe thead th {\n",
              "        text-align: right;\n",
              "    }\n",
              "</style>\n",
              "<table border=\"1\" class=\"dataframe\">\n",
              "  <thead>\n",
              "    <tr style=\"text-align: right;\">\n",
              "      <th></th>\n",
              "      <th>const</th>\n",
              "      <th>Age</th>\n",
              "      <th>DM_duration</th>\n",
              "      <th>FBS</th>\n",
              "    </tr>\n",
              "  </thead>\n",
              "  <tbody>\n",
              "    <tr>\n",
              "      <th>0</th>\n",
              "      <td>1.0</td>\n",
              "      <td>65.0</td>\n",
              "      <td>20.0</td>\n",
              "      <td>129.0</td>\n",
              "    </tr>\n",
              "    <tr>\n",
              "      <th>1</th>\n",
              "      <td>1.0</td>\n",
              "      <td>42.0</td>\n",
              "      <td>3.0</td>\n",
              "      <td>210.0</td>\n",
              "    </tr>\n",
              "    <tr>\n",
              "      <th>2</th>\n",
              "      <td>1.0</td>\n",
              "      <td>31.0</td>\n",
              "      <td>11.0</td>\n",
              "      <td>164.0</td>\n",
              "    </tr>\n",
              "    <tr>\n",
              "      <th>3</th>\n",
              "      <td>1.0</td>\n",
              "      <td>70.0</td>\n",
              "      <td>29.0</td>\n",
              "      <td>208.0</td>\n",
              "    </tr>\n",
              "    <tr>\n",
              "      <th>4</th>\n",
              "      <td>1.0</td>\n",
              "      <td>54.0</td>\n",
              "      <td>6.0</td>\n",
              "      <td>183.0</td>\n",
              "    </tr>\n",
              "    <tr>\n",
              "      <th>...</th>\n",
              "      <td>...</td>\n",
              "      <td>...</td>\n",
              "      <td>...</td>\n",
              "      <td>...</td>\n",
              "    </tr>\n",
              "    <tr>\n",
              "      <th>128</th>\n",
              "      <td>1.0</td>\n",
              "      <td>52.0</td>\n",
              "      <td>3.0</td>\n",
              "      <td>138.0</td>\n",
              "    </tr>\n",
              "    <tr>\n",
              "      <th>129</th>\n",
              "      <td>1.0</td>\n",
              "      <td>56.0</td>\n",
              "      <td>3.0</td>\n",
              "      <td>156.0</td>\n",
              "    </tr>\n",
              "    <tr>\n",
              "      <th>130</th>\n",
              "      <td>1.0</td>\n",
              "      <td>65.0</td>\n",
              "      <td>3.0</td>\n",
              "      <td>300.0</td>\n",
              "    </tr>\n",
              "    <tr>\n",
              "      <th>131</th>\n",
              "      <td>1.0</td>\n",
              "      <td>56.0</td>\n",
              "      <td>5.0</td>\n",
              "      <td>213.0</td>\n",
              "    </tr>\n",
              "    <tr>\n",
              "      <th>132</th>\n",
              "      <td>1.0</td>\n",
              "      <td>48.0</td>\n",
              "      <td>2.0</td>\n",
              "      <td>159.0</td>\n",
              "    </tr>\n",
              "  </tbody>\n",
              "</table>\n",
              "<p>133 rows × 4 columns</p>\n",
              "</div>"
            ],
            "text/plain": [
              "     const   Age  DM_duration    FBS\n",
              "0      1.0  65.0         20.0  129.0\n",
              "1      1.0  42.0          3.0  210.0\n",
              "2      1.0  31.0         11.0  164.0\n",
              "3      1.0  70.0         29.0  208.0\n",
              "4      1.0  54.0          6.0  183.0\n",
              "..     ...   ...          ...    ...\n",
              "128    1.0  52.0          3.0  138.0\n",
              "129    1.0  56.0          3.0  156.0\n",
              "130    1.0  65.0          3.0  300.0\n",
              "131    1.0  56.0          5.0  213.0\n",
              "132    1.0  48.0          2.0  159.0\n",
              "\n",
              "[133 rows x 4 columns]"
            ]
          },
          "metadata": {
            "tags": []
          },
          "execution_count": 29
        }
      ]
    },
    {
      "cell_type": "code",
      "metadata": {
        "id": "e5Zt4ipl8Pf7",
        "colab": {
          "base_uri": "https://localhost:8080/"
        },
        "outputId": "cd6775a4-c39c-4031-aa7c-8b48aba54649"
      },
      "source": [
        "# Fitting Logistic Regression to the opt Training set\n",
        "from sklearn.linear_model import LogisticRegression\n",
        "from sklearn.model_selection import train_test_split\n",
        "X_train, X_test, y_train, y_test = train_test_split(X_1,y, test_size = 0.3, random_state = 0)\n",
        "Neuropathy = LogisticRegression(random_state = 0)\n",
        "Neuropathy.fit(X_train, y_train)\n",
        "\n",
        "# predicting the test set result\n",
        "y_pred_logreg = Neuropathy.predict(X_test)\n",
        "\n",
        "y_pred_logreg"
      ],
      "execution_count": null,
      "outputs": [
        {
          "output_type": "execute_result",
          "data": {
            "text/plain": [
              "array([1, 1, 0, 0, 1, 1, 0, 1, 1, 1, 1, 1, 0, 1, 1, 1, 1, 0, 1, 1, 0, 1,\n",
              "       1, 1, 0, 0, 0, 0, 0, 1, 0, 0, 1, 1, 0, 0, 0, 1, 0, 0])"
            ]
          },
          "metadata": {
            "tags": []
          },
          "execution_count": 30
        }
      ]
    },
    {
      "cell_type": "code",
      "metadata": {
        "id": "Ps9g4-hl-VSF",
        "colab": {
          "base_uri": "https://localhost:8080/"
        },
        "outputId": "35bece9b-bbfc-4d82-ba1d-4187d2f8c012"
      },
      "source": [
        "# Making the Confusion Matrix\n",
        "from sklearn.metrics import confusion_matrix\n",
        "cm_logreg = confusion_matrix(y_test, y_pred_logreg)\n",
        "cm_logreg"
      ],
      "execution_count": null,
      "outputs": [
        {
          "output_type": "execute_result",
          "data": {
            "text/plain": [
              "array([[13,  5],\n",
              "       [ 5, 17]])"
            ]
          },
          "metadata": {
            "tags": []
          },
          "execution_count": 31
        }
      ]
    },
    {
      "cell_type": "code",
      "metadata": {
        "id": "N1yVUH0vtNJD",
        "colab": {
          "base_uri": "https://localhost:8080/",
          "height": 282
        },
        "outputId": "edbd5f78-c3cd-40a5-9318-010224b90baa"
      },
      "source": [
        "#Let's visualize the confusion matrix with heatmap\n",
        "import seaborn as sns\n",
        "sns.heatmap(cm_logreg, annot=True)"
      ],
      "execution_count": null,
      "outputs": [
        {
          "output_type": "execute_result",
          "data": {
            "text/plain": [
              "<matplotlib.axes._subplots.AxesSubplot at 0x7fa1d4a0d8d0>"
            ]
          },
          "metadata": {
            "tags": []
          },
          "execution_count": 32
        },
        {
          "output_type": "display_data",
          "data": {
            "image/png": "[encoded data removed]",
            "text/plain": [
              "<Figure size 432x288 with 2 Axes>"
            ]
          },
          "metadata": {
            "tags": [],
            "needs_background": "light"
          }
        }
      ]
    },
    {
      "cell_type": "code",
      "metadata": {
        "id": "D1WsTrs8tXkM",
        "colab": {
          "base_uri": "https://localhost:8080/"
        },
        "outputId": "a9f62d19-3c1a-4f2d-c022-9e44c1060499"
      },
      "source": [
        "#####from confusion matrix calculate accuracy\n",
        "tn,fp,fn,tp = confusion_matrix(y_test, y_pred_logreg).ravel()\n",
        "accuracy=(tp+tn)/(tn+fp+fn+tp)\n",
        "print ('Accuracy : ', accuracy)\n",
        "\n",
        "sensitivity = tp/(fn+tp)\n",
        "print('Sensitivity : %.3f'% sensitivity )\n",
        "\n",
        "specificity = tn/(tn+fp)\n",
        "print('Specificity : %.3f'% specificity)"
      ],
      "execution_count": null,
      "outputs": [
        {
          "output_type": "stream",
          "text": [
            "Accuracy :  0.75\n",
            "Sensitivity : 0.773\n",
            "Specificity : 0.722\n"
          ],
          "name": "stdout"
        }
      ]
    },
    {
      "cell_type": "markdown",
      "metadata": {
        "id": "-V2H30o4N5mu"
      },
      "source": [
        "###ROC Curve"
      ]
    },
    {
      "cell_type": "markdown",
      "metadata": {
        "id": "E1-akAJVOAgQ"
      },
      "source": [
        "#####Response - Neuropathy\n",
        "#####Predictors - Age, DM Duration, FBS"
      ]
    },
    {
      "cell_type": "code",
      "metadata": {
        "id": "d_KRfzC8jxVM",
        "colab": {
          "base_uri": "https://localhost:8080/",
          "height": 312
        },
        "outputId": "0844b3f2-f9c9-4f50-b178-a0c49fa3dd61"
      },
      "source": [
        "# roc curve and auc\n",
        "import numpy as np\n",
        "from sklearn.datasets import make_classification\n",
        "from sklearn.linear_model import LogisticRegression\n",
        "from sklearn.model_selection import train_test_split\n",
        "from sklearn.metrics import roc_curve\n",
        "from sklearn.metrics import roc_auc_score\n",
        "from matplotlib import pyplot\n",
        "\n",
        "# predict probabilities\n",
        "lr_probs = Neuropathy.predict_proba(X_test)\n",
        "# keep probabilities for the positive outcome only\n",
        "lr_probs = lr_probs[:, 1]\n",
        "# calculate scores\n",
        "lr_auc = roc_auc_score(y_test, lr_probs)\n",
        "# summarize scores\n",
        "print('Logistic: ROC AUC=%.3f' % (lr_auc))\n",
        "# calculate roc curve\n",
        "lr_fpr, lr_tpr, _ = roc_curve(y_test, lr_probs)\n",
        "# plot the roc curve for the model\n",
        "pyplot.plot(lr_fpr, lr_tpr, marker='.', label='Logistic')\n",
        "# plot baseline\n",
        "pyplot.plot(np.linspace(0,1,200),np.linspace(0,1,200),label='baseline',linestyle='--')\n",
        "# axis labels and title\n",
        "pyplot.title(\"Diabetic Neuropathy ROC with AUC = %.3f\" % (lr_auc))\n",
        "pyplot.xlabel('False Positive Rate')\n",
        "pyplot.ylabel('True Positive Rate')\n",
        "# show the legend\n",
        "pyplot.legend()\n",
        "# show the plot\n",
        "pyplot.show()"
      ],
      "execution_count": null,
      "outputs": [
        {
          "output_type": "stream",
          "text": [
            "Logistic: ROC AUC=0.788\n"
          ],
          "name": "stdout"
        },
        {
          "output_type": "display_data",
          "data": {
            "image/png": "[encoded data removed]",
            "text/plain": [
              "<Figure size 432x288 with 1 Axes>"
            ]
          },
          "metadata": {
            "tags": [],
            "needs_background": "light"
          }
        }
      ]
    },
    {
      "cell_type": "markdown",
      "metadata": {
        "id": "6TtUw-tSpfD6"
      },
      "source": [
        "####**Conclusion :** \n",
        "1. We observe that 0.5 < AUC = 0.788 < 1 implies that there is a high chance that our classifier is able to distinguish the positive class values from the negative class values. \n",
        "2. This is so because the classifier is able to detect more numbers of True positives and True negatives than False negatives and False positives. \n",
        "3. Therefore, we may say that our model/classifier has high sensitivity i.e., few false negatives and thus fewer cases of Neuropathy are missed."
      ]
    },
    {
      "cell_type": "markdown",
      "metadata": {
        "id": "cjd4aPFOq69P"
      },
      "source": [
        "#### **2.** Nephropathy prediction model\n",
        "\n",
        "Similar procedure as predicting Neuropathy."
      ]
    },
    {
      "cell_type": "code",
      "metadata": {
        "id": "VN7YgFKsv2wS",
        "colab": {
          "base_uri": "https://localhost:8080/"
        },
        "outputId": "239fc0c4-ff9c-4abd-a3c6-dc4ccf53a714"
      },
      "source": [
        "#importing libraries\n",
        "import matplotlib\n",
        "import statsmodels.api as sm\n",
        "\n",
        "from sklearn.model_selection import train_test_split\n",
        "from sklearn.linear_model import LogisticRegression\n",
        "\n",
        "#Feature matrix\n",
        "X = diabetes_data[['Age', 'BMI', 'DM_duration', 'FBS', 'A1C', 'LDL', 'TG', 'Sys_BP','Dias_BP']]   \n",
        "#Target Variable\n",
        "y = diabetes_data[\"Neph_pathy\"]          \n",
        "\n",
        "#Adding constant column of ones, mandatory for sm.OLS model\n",
        "X_1 = sm.add_constant(X)\n",
        "#Fitting sm.OLS model\n",
        "model = sm.OLS(y,X_1).fit()\n",
        "model.pvalues"
      ],
      "execution_count": null,
      "outputs": [
        {
          "output_type": "execute_result",
          "data": {
            "text/plain": [
              "const          3.793110e-10\n",
              "Age            5.472565e-03\n",
              "BMI            2.708526e-01\n",
              "DM_duration    2.620796e-01\n",
              "FBS            3.049617e-01\n",
              "A1C            6.846971e-01\n",
              "LDL            9.289963e-02\n",
              "TG             8.312237e-01\n",
              "Sys_BP         2.751244e-03\n",
              "Dias_BP        9.994647e-01\n",
              "dtype: float64"
            ]
          },
          "metadata": {
            "tags": []
          },
          "execution_count": 35
        }
      ]
    },
    {
      "cell_type": "code",
      "metadata": {
        "id": "aMiysAaTv7f7",
        "colab": {
          "base_uri": "https://localhost:8080/"
        },
        "outputId": "df4bdbf5-ab02-4e12-bc3f-d0b554a8739c"
      },
      "source": [
        "#Backward Elimination\n",
        "cols = list(X.columns)\n",
        "pmax = 1\n",
        "while (len(cols)>0):\n",
        "    p= []\n",
        "    X_1 = X[cols]\n",
        "    X_1 = sm.add_constant(X_1)\n",
        "    model = sm.OLS(y,X_1).fit()\n",
        "    p = pd.Series(model.pvalues.values[1:],index = cols)      \n",
        "    pmax = max(p)\n",
        "    feature_with_p_max = p.idxmax()\n",
        "    if(pmax>0.10):\n",
        "        cols.remove(feature_with_p_max)\n",
        "    else:\n",
        "        break\n",
        "selected_features_BE = cols\n",
        "print(selected_features_BE)"
      ],
      "execution_count": null,
      "outputs": [
        {
          "output_type": "stream",
          "text": [
            "['Age', 'LDL', 'Sys_BP']\n"
          ],
          "name": "stdout"
        }
      ]
    },
    {
      "cell_type": "code",
      "metadata": {
        "id": "Vxt7Ufx1wBm4",
        "colab": {
          "base_uri": "https://localhost:8080/"
        },
        "outputId": "67b4d924-61e6-4c18-a4cb-f5c3df83e367"
      },
      "source": [
        "# Fitting Logistic Regression to the opt Training set\n",
        "from sklearn.linear_model import LogisticRegression\n",
        "from sklearn.model_selection import train_test_split\n",
        "X_train, X_test, y_train, y_test = train_test_split(X_1,y, test_size = 0.3, random_state = 0)\n",
        "Nephropathy = LogisticRegression(random_state = 0)\n",
        "Nephropathy.fit(X_train, y_train)\n",
        "\n",
        "# predicting the test set result\n",
        "y_pred_logreg = Nephropathy.predict(X_test)\n",
        "\n",
        "y_pred_logreg"
      ],
      "execution_count": null,
      "outputs": [
        {
          "output_type": "execute_result",
          "data": {
            "text/plain": [
              "array([1, 0, 0, 0, 1, 1, 0, 0, 1, 0, 1, 0, 0, 0, 1, 0, 0, 0, 1, 1, 0, 1,\n",
              "       0, 1, 0, 0, 1, 0, 0, 0, 1, 1, 1, 1, 0, 0, 0, 1, 0, 1])"
            ]
          },
          "metadata": {
            "tags": []
          },
          "execution_count": 37
        }
      ]
    },
    {
      "cell_type": "code",
      "metadata": {
        "id": "3rUEs31xwE-h",
        "colab": {
          "base_uri": "https://localhost:8080/"
        },
        "outputId": "e7c28a5d-1125-4b95-ee93-7d9cbc6db780"
      },
      "source": [
        "# Making the Confusion Matrix\n",
        "from sklearn.metrics import confusion_matrix\n",
        "cm_logreg = confusion_matrix(y_test, y_pred_logreg)\n",
        "cm_logreg"
      ],
      "execution_count": null,
      "outputs": [
        {
          "output_type": "execute_result",
          "data": {
            "text/plain": [
              "array([[18,  1],\n",
              "       [ 5, 16]])"
            ]
          },
          "metadata": {
            "tags": []
          },
          "execution_count": 38
        }
      ]
    },
    {
      "cell_type": "code",
      "metadata": {
        "id": "rOJaEtJbtK7e",
        "colab": {
          "base_uri": "https://localhost:8080/",
          "height": 286
        },
        "outputId": "20c5af23-f11b-4bfa-eac8-005dadb336a2"
      },
      "source": [
        "#Let's visualize the confusion matrix with heatmap\n",
        "import seaborn as sns\n",
        "sns.heatmap(cm_logreg, annot=True)"
      ],
      "execution_count": null,
      "outputs": [
        {
          "output_type": "execute_result",
          "data": {
            "text/plain": [
              "<matplotlib.axes._subplots.AxesSubplot at 0x7fa1d3d54490>"
            ]
          },
          "metadata": {
            "tags": []
          },
          "execution_count": 39
        },
        {
          "output_type": "display_data",
          "data": {
            "image/png": "[encoded data removed]",
            "text/plain": [
              "<Figure size 432x288 with 2 Axes>"
            ]
          },
          "metadata": {
            "tags": [],
            "needs_background": "light"
          }
        }
      ]
    },
    {
      "cell_type": "code",
      "metadata": {
        "id": "FBlaS-X8tVZi",
        "colab": {
          "base_uri": "https://localhost:8080/"
        },
        "outputId": "4d0f1724-7b64-48cb-f225-b258af0d5e5c"
      },
      "source": [
        "#####from confusion matrix calculate accuracy\n",
        "tn,fp,fn,tp = confusion_matrix(y_test, y_pred_logreg).ravel()\n",
        "accuracy=(tp+tn)/(tn+fp+fn+tp)\n",
        "print ('Accuracy : ', accuracy)\n",
        "\n",
        "sensitivity = tp/(fn+tp)\n",
        "print('Sensitivity : %.3f'% sensitivity )\n",
        "\n",
        "specificity = tn/(tn+fp)\n",
        "print('Specificity : %.3f'% specificity)"
      ],
      "execution_count": null,
      "outputs": [
        {
          "output_type": "stream",
          "text": [
            "Accuracy :  0.85\n",
            "Sensitivity : 0.762\n",
            "Specificity : 0.947\n"
          ],
          "name": "stdout"
        }
      ]
    },
    {
      "cell_type": "markdown",
      "metadata": {
        "id": "lDW7Gar0wJgZ"
      },
      "source": [
        "###ROC Curve"
      ]
    },
    {
      "cell_type": "markdown",
      "metadata": {
        "id": "GyHjxZa3wJgb"
      },
      "source": [
        "#####Response - Nephropathy\n",
        "#####Predictors - Age, LDL, Sys_BP"
      ]
    },
    {
      "cell_type": "code",
      "metadata": {
        "id": "locBRSFfwJgc",
        "colab": {
          "base_uri": "https://localhost:8080/",
          "height": 312
        },
        "outputId": "2de05c8d-e43d-4338-a26c-aded7c386d67"
      },
      "source": [
        "# roc curve and auc\n",
        "from sklearn.datasets import make_classification\n",
        "from sklearn.linear_model import LogisticRegression\n",
        "from sklearn.model_selection import train_test_split\n",
        "from sklearn.metrics import roc_curve\n",
        "from sklearn.metrics import roc_auc_score\n",
        "from matplotlib import pyplot\n",
        "\n",
        "# predict probabilities\n",
        "lr_probs = Nephropathy.predict_proba(X_test)\n",
        "# keep probabilities for the positive outcome only\n",
        "lr_probs = lr_probs[:, 1]\n",
        "# calculate scores\n",
        "lr_auc = roc_auc_score(y_test, lr_probs)\n",
        "# summarize scores\n",
        "print('Logistic: ROC AUC=%.3f' % (lr_auc))\n",
        "# calculate roc curve\n",
        "lr_fpr, lr_tpr, _ = roc_curve(y_test, lr_probs)\n",
        "# plot the roc curve for the model\n",
        "pyplot.plot(lr_fpr, lr_tpr, marker='.', label='Logistic')\n",
        "# plot baseline\n",
        "pyplot.plot(np.linspace(0,1,200),np.linspace(0,1,200),label='baseline',linestyle='--')\n",
        "# axis labels and title\n",
        "pyplot.title(\"Diabetic Nephropathy ROC with AUC = %.3f\" % (lr_auc))\n",
        "pyplot.xlabel('False Positive Rate')\n",
        "pyplot.ylabel('True Positive Rate')\n",
        "# show the legend\n",
        "pyplot.legend()\n",
        "# show the plot\n",
        "pyplot.show()"
      ],
      "execution_count": null,
      "outputs": [
        {
          "output_type": "stream",
          "text": [
            "Logistic: ROC AUC=0.865\n"
          ],
          "name": "stdout"
        },
        {
          "output_type": "display_data",
          "data": {
            "image/png": "[encoded data removed]",
            "text/plain": [
              "<Figure size 432x288 with 1 Axes>"
            ]
          },
          "metadata": {
            "tags": [],
            "needs_background": "light"
          }
        }
      ]
    },
    {
      "cell_type": "markdown",
      "metadata": {
        "id": "1jbyM2mVwJge"
      },
      "source": [
        "####**Conclusion :** \n",
        "1. We observe that 0.5 < AUC = 0.865 < 1 implies that there is a high chance that our classifier is able to distinguish the positive class values from the negative class values. \n",
        "2. This is so because the classifier is able to detect more numbers of True positives and True negatives than False negatives and False positives. \n",
        "3. Therefore, we may say that our model/classifier has high sensitivity i.e., few false negatives and thus fewer cases of Neuropathy are missed."
      ]
    },
    {
      "cell_type": "markdown",
      "metadata": {
        "id": "ez4OYOO7xNZG"
      },
      "source": [
        "#### **3.** Retinopathy prediction model\n",
        "\n",
        "Similar procedure as predicting Neuropathy."
      ]
    },
    {
      "cell_type": "code",
      "metadata": {
        "id": "WyOcFTcixNZI",
        "colab": {
          "base_uri": "https://localhost:8080/"
        },
        "outputId": "82fedc34-cf3a-4a7d-bba4-5b7bc22ee500"
      },
      "source": [
        "#importing libraries\n",
        "import matplotlib\n",
        "import statsmodels.api as sm\n",
        "\n",
        "from sklearn.model_selection import train_test_split\n",
        "from sklearn.linear_model import LogisticRegression\n",
        "\n",
        "#Feature Matrix\n",
        "X = diabetes_data[['Age', 'BMI', 'DM_duration', 'FBS', 'A1C', 'LDL', 'TG', 'Sys_BP','Dias_BP']]   \n",
        "#Target Variable\n",
        "y = diabetes_data[\"Ret_pathy\"]          \n",
        "\n",
        "#Adding constant column of ones, mandatory for sm.OLS model\n",
        "X_1 = sm.add_constant(X)\n",
        "#Fitting sm.OLS model\n",
        "model = sm.OLS(y,X_1).fit()\n",
        "model.pvalues"
      ],
      "execution_count": null,
      "outputs": [
        {
          "output_type": "execute_result",
          "data": {
            "text/plain": [
              "const          0.125193\n",
              "Age            0.220283\n",
              "BMI            0.704634\n",
              "DM_duration    0.000306\n",
              "FBS            0.142111\n",
              "A1C            0.339711\n",
              "LDL            0.807409\n",
              "TG             0.687983\n",
              "Sys_BP         0.870420\n",
              "Dias_BP        0.902523\n",
              "dtype: float64"
            ]
          },
          "metadata": {
            "tags": []
          },
          "execution_count": 42
        }
      ]
    },
    {
      "cell_type": "code",
      "metadata": {
        "id": "U7jymFadxNZL",
        "colab": {
          "base_uri": "https://localhost:8080/"
        },
        "outputId": "e44158fb-b7e5-42ce-c303-448039af5589"
      },
      "source": [
        "#Backward Elimination\n",
        "cols = list(X.columns)\n",
        "pmax = 1\n",
        "while (len(cols)>0):\n",
        "    p= []\n",
        "    X_1 = X[cols]\n",
        "    X_1 = sm.add_constant(X_1)\n",
        "    model = sm.OLS(y,X_1).fit()\n",
        "    p = pd.Series(model.pvalues.values[1:],index = cols)      \n",
        "    pmax = max(p)\n",
        "    feature_with_p_max = p.idxmax()\n",
        "    if(pmax>0.10):\n",
        "        cols.remove(feature_with_p_max)\n",
        "    else:\n",
        "        break\n",
        "selected_features_BE = cols\n",
        "print(selected_features_BE)"
      ],
      "execution_count": null,
      "outputs": [
        {
          "output_type": "stream",
          "text": [
            "['DM_duration', 'FBS']\n"
          ],
          "name": "stdout"
        }
      ]
    },
    {
      "cell_type": "code",
      "metadata": {
        "id": "dmQpK3jTxNZM",
        "colab": {
          "base_uri": "https://localhost:8080/"
        },
        "outputId": "43f4f9ef-dfb2-4506-d21c-f21cebf8eac8"
      },
      "source": [
        "# Fitting Logistic Regression to the opt Training set\n",
        "from sklearn.linear_model import LogisticRegression\n",
        "from sklearn.model_selection import train_test_split\n",
        "X_train, X_test, y_train, y_test = train_test_split(X_1,y, test_size = 0.3, random_state = 0)\n",
        "classifier = LogisticRegression(random_state = 0)\n",
        "classifier.fit(X_train, y_train)\n",
        "\n",
        "# predicting the test set result\n",
        "y_pred_logreg = classifier.predict(X_test)\n",
        "\n",
        "y_pred_logreg"
      ],
      "execution_count": null,
      "outputs": [
        {
          "output_type": "execute_result",
          "data": {
            "text/plain": [
              "array([1, 0, 0, 0, 0, 0, 0, 0, 1, 0, 0, 1, 0, 1, 1, 1, 0, 0, 0, 1, 0, 0,\n",
              "       1, 1, 0, 0, 0, 0, 0, 0, 0, 0, 1, 1, 0, 0, 0, 1, 0, 0])"
            ]
          },
          "metadata": {
            "tags": []
          },
          "execution_count": 44
        }
      ]
    },
    {
      "cell_type": "code",
      "metadata": {
        "id": "w8W_RLzGxNZM",
        "colab": {
          "base_uri": "https://localhost:8080/"
        },
        "outputId": "660b8b02-41ca-4711-dd25-1171be125ded"
      },
      "source": [
        "# Making the Confusion Matrix\n",
        "from sklearn.metrics import confusion_matrix\n",
        "cm_logreg = confusion_matrix(y_test, y_pred_logreg)\n",
        "cm_logreg"
      ],
      "execution_count": null,
      "outputs": [
        {
          "output_type": "execute_result",
          "data": {
            "text/plain": [
              "array([[20,  7],\n",
              "       [ 8,  5]])"
            ]
          },
          "metadata": {
            "tags": []
          },
          "execution_count": 45
        }
      ]
    },
    {
      "cell_type": "code",
      "metadata": {
        "id": "SqfS1PapkhLV",
        "colab": {
          "base_uri": "https://localhost:8080/",
          "height": 286
        },
        "outputId": "e9c15f13-90d1-4b7f-a7b6-68a87daac84f"
      },
      "source": [
        "#Let's visualize the confusion matrix with heatmap\n",
        "import seaborn as sns\n",
        "sns.heatmap(cm_logreg, annot=True)"
      ],
      "execution_count": null,
      "outputs": [
        {
          "output_type": "execute_result",
          "data": {
            "text/plain": [
              "<matplotlib.axes._subplots.AxesSubplot at 0x7fa1d3c89cd0>"
            ]
          },
          "metadata": {
            "tags": []
          },
          "execution_count": 46
        },
        {
          "output_type": "display_data",
          "data": {
            "image/png": "[encoded data removed]",
            "text/plain": [
              "<Figure size 432x288 with 2 Axes>"
            ]
          },
          "metadata": {
            "tags": [],
            "needs_background": "light"
          }
        }
      ]
    },
    {
      "cell_type": "code",
      "metadata": {
        "id": "DvmBF_LTlGJF",
        "colab": {
          "base_uri": "https://localhost:8080/"
        },
        "outputId": "94017581-0741-4312-8a9b-69e3cfc794c5"
      },
      "source": [
        "#####from confusion matrix calculate accuracy\n",
        "tn,fp,fn,tp = confusion_matrix(y_test, y_pred_logreg).ravel()\n",
        "accuracy=(tp+tn)/(tn+fp+fn+tp)\n",
        "print ('Accuracy : ', accuracy)\n",
        "\n",
        "sensitivity = tp/(fn+tp)\n",
        "print('Sensitivity : %.3f'% sensitivity )\n",
        "\n",
        "specificity = tn/(tn+fp)\n",
        "print('Specificity : %.3f'% specificity)"
      ],
      "execution_count": null,
      "outputs": [
        {
          "output_type": "stream",
          "text": [
            "Accuracy :  0.625\n",
            "Sensitivity : 0.385\n",
            "Specificity : 0.741\n"
          ],
          "name": "stdout"
        }
      ]
    },
    {
      "cell_type": "markdown",
      "metadata": {
        "id": "1Y4xfB1NxNZN"
      },
      "source": [
        "###ROC Curve"
      ]
    },
    {
      "cell_type": "markdown",
      "metadata": {
        "id": "P6TYOy-HxNZN"
      },
      "source": [
        "#####Response - Nephropathy\n",
        "#####Predictors - DM_duration, FBS"
      ]
    },
    {
      "cell_type": "code",
      "metadata": {
        "id": "5AuTS1SSxNZN",
        "colab": {
          "base_uri": "https://localhost:8080/",
          "height": 312
        },
        "outputId": "ace528c4-c9b9-430d-bcd7-eda2c3fcb884"
      },
      "source": [
        "# roc curve and auc\n",
        "from sklearn.datasets import make_classification\n",
        "from sklearn.linear_model import LogisticRegression\n",
        "from sklearn.model_selection import train_test_split\n",
        "from sklearn.metrics import roc_curve\n",
        "from sklearn.metrics import roc_auc_score\n",
        "from matplotlib import pyplot\n",
        "\n",
        "# predict probabilities\n",
        "lr_probs = classifier.predict_proba(X_test)\n",
        "# keep probabilities for the positive outcome only\n",
        "lr_probs = lr_probs[:, 1]\n",
        "# calculate scores\n",
        "lr_auc = roc_auc_score(y_test, lr_probs)\n",
        "# summarize scores\n",
        "print('Logistic: ROC AUC=%.3f' % (lr_auc))\n",
        "# calculate roc curve\n",
        "lr_fpr, lr_tpr, _ = roc_curve(y_test, lr_probs)\n",
        "# plot the roc curve for the model\n",
        "pyplot.plot(lr_fpr, lr_tpr, marker='.', label='Logistic')\n",
        "# plot baseline\n",
        "pyplot.plot(np.linspace(0,1,200),np.linspace(0,1,200),label='baseline',linestyle='--')\n",
        "# axis labels and title\n",
        "pyplot.title(\"Diabetic Retinopathy ROC with AUC = %.3f\" % (lr_auc))\n",
        "pyplot.xlabel('False Positive Rate')\n",
        "pyplot.ylabel('True Positive Rate')\n",
        "# show the legend\n",
        "pyplot.legend()\n",
        "# show the plot\n",
        "pyplot.show()"
      ],
      "execution_count": null,
      "outputs": [
        {
          "output_type": "stream",
          "text": [
            "Logistic: ROC AUC=0.632\n"
          ],
          "name": "stdout"
        },
        {
          "output_type": "display_data",
          "data": {
            "image/png": "[encoded data removed]",
            "text/plain": [
              "<Figure size 432x288 with 1 Axes>"
            ]
          },
          "metadata": {
            "tags": [],
            "needs_background": "light"
          }
        }
      ]
    },
    {
      "cell_type": "markdown",
      "metadata": {
        "id": "KRCRwS_BxNZO"
      },
      "source": [
        "####**Conclusion :** \n",
        "1. We observe that 0.5 < AUC = 0.632 ~ 0.6 < 0.7 implies that our classifier has poor discrimminating capability. \n",
        "2. This is so because the classifier is able to detect more numbers of True positives and True negatives than False negatives and False positives. \n",
        "3. Therefore, we may say that our model/classifier has high sensitivity i.e., few false negatives and thus fewer cases of Neuropathy are missed.\n",
        "4. This may have happened due to the following reasons :\n",
        "\n",
        "\n",
        "> (i) non-normal data - \n",
        "      \n",
        "  **Mitigation** - use some transformation like log or box-cox to make the predictors normal\n",
        "\n",
        "\n",
        "> (ii) underfitting - occurs when the model is not able to obtain a sufficiently low error value on training set. On the other hand, overfitting, occurs when the gap between training error and test error is too large.\n",
        "\n",
        "  **Mitigation** - \n",
        "*   Increase the size or number of parameters in the ML model.\n",
        "*   Increase the complexity or type of the model.\n",
        "*   Increasing the training time until cost function in ML is minimised.\n",
        "\n",
        "\n",
        "> (ii) wrong feature selection - \n",
        "       \n",
        "  **Mitigation** - use Embedded methods are iterative in a sense that takes care of each iteration of the model training process and carefully extract those features which contribute the most to the training for a particular iteration. Regularization methods (for example, Lasso) are the most commonly used embedded methods which penalize a feature given a coefficient threshold. If the feature is irrelevant, lasso penalizes it’s coefficient and make it 0. Hence the features with coefficient = 0 are removed and the rest are taken.\n"
      ]
    }
  ]
}